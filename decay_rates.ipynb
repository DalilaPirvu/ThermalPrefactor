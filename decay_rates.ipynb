{
 "cells": [
  {
   "cell_type": "markdown",
   "metadata": {},
   "source": [
    "## Decay Rates"
   ]
  },
  {
   "cell_type": "code",
   "execution_count": 1,
   "metadata": {
    "tags": []
   },
   "outputs": [
    {
     "name": "stdout",
     "output_type": "stream",
     "text": [
      "/home/dpirvu/project/paper_prefactor\n"
     ]
    }
   ],
   "source": [
    "cd '/home/dpirvu/project/paper_prefactor/'"
   ]
  },
  {
   "cell_type": "code",
   "execution_count": 2,
   "metadata": {
    "tags": []
   },
   "outputs": [
    {
     "name": "stdout",
     "output_type": "stream",
     "text": [
      "['/home/dpirvu/project/paper_prefactor', '/cm/shared/apps/python/python37/lib/python37.zip', '/cm/shared/apps/python/python37/lib/python3.7', '/cm/shared/apps/python/python37/lib/python3.7/lib-dynload', '', '/home/dpirvu/.local/lib/python3.7/site-packages', '/home/dpirvu/DarkPhotonxunWISE/hmvec-master', '/cm/shared/apps/python/python37/lib/python3.7/site-packages', '/cm/shared/apps/python/python37/lib/python3.7/site-packages/IPython/extensions', '/home/dpirvu/.ipython', '/home/dpirvu/python_stuff/', '/home/dpirvu/project/paper_prefactor/bubble_codes/']\n",
      "['/home/dpirvu/project/paper_prefactor', '/cm/shared/apps/python/python37/lib/python37.zip', '/cm/shared/apps/python/python37/lib/python3.7', '/cm/shared/apps/python/python37/lib/python3.7/lib-dynload', '', '/home/dpirvu/.local/lib/python3.7/site-packages', '/home/dpirvu/DarkPhotonxunWISE/hmvec-master', '/cm/shared/apps/python/python37/lib/python3.7/site-packages', '/cm/shared/apps/python/python37/lib/python3.7/site-packages/IPython/extensions', '/home/dpirvu/.ipython', '/home/dpirvu/python_stuff/', '/home/dpirvu/project/paper_prefactor/bubble_codes/']\n"
     ]
    }
   ],
   "source": [
    "import os,sys\n",
    "sys.path.append('/home/dpirvu/python_stuff/')\n",
    "sys.path.append('/home/dpirvu/project/paper_prefactor/bubble_codes/')\n",
    "#sys.path.append('/home/dpirvu/project/paper_prefactor/bubble_codes_older/')\n",
    "#sys.path.remove('/home/dpirvu/DarkPhotonxunWISE/hmvec-master')\n",
    "print(sys.path)\n",
    "from plotting import *\n",
    "from bubble_tools import *\n",
    "from experiment import *\n",
    "from celluloid import Camera\n",
    "from scipy.optimize import curve_fit\n",
    "\n",
    "%matplotlib inline"
   ]
  },
  {
   "cell_type": "code",
   "execution_count": 3,
   "metadata": {
    "tags": []
   },
   "outputs": [],
   "source": [
    "case = 'minus'\n",
    "general = get_general_model(case)\n",
    "tempList, massq, right_Vmax, V, dV, Vinv, nTimeMAX, minSim, maxSim = general\n"
   ]
  },
  {
   "cell_type": "code",
   "execution_count": 12,
   "metadata": {},
   "outputs": [
    {
     "name": "stdout",
     "output_type": "stream",
     "text": [
      "Experiment [2048, 0.8049999999999999, 0.13]\n",
      "[2] [0.13]\n"
     ]
    }
   ],
   "source": [
    "bubbleList, velocitesList, temperatureList, instantonList, tmpList, fldcritList, decayTimes, decayedSims = [], [], [], [], [], [], [], []\n",
    "for ii, tmp in enumerate([0,1,2]):\n",
    "    maxSim = (1000 if tmp == 0 else 2000 if tmp==1 else 3000 if tmp==2 else 2000)\n",
    "    nTimeMAX = (262144 if tmp!=1 else 131072)        \n",
    "    temp, m2, sigmafld = get_model(*general, tmp)\n",
    "    exp_params = [nLat, m2, temp]\n",
    "    print('Experiment', exp_params)\n",
    "\n",
    "    tmpList.append(tmp)\n",
    "\n",
    "    temperatureList.append(temp)\n",
    "\n",
    "    decay_times = np.load(decay_times_file(*exp_params, minSim, maxSim, nTimeMAX))\n",
    "    decayedSims.append(np.load(sims_decayed_file(*exp_params, minSim, maxSim, nTimeMAX)))\n",
    "\n",
    "    decayTimes.append(np.sort(decay_times[:,1]))\n",
    "    instantonList.append(np.load(ansol_instanton_file(*exp_params)))\n",
    "\n",
    "    try:\n",
    "        bubbleList.append(np.load(average_file(*exp_params)))\n",
    "        velocitesList.append(np.load(velocities_file(*exp_params)))\n",
    "        fldcritList.append(np.load(critfield_file(*exp_params)))\n",
    "    except:\n",
    "        bubbleList.append([])\n",
    "        velocitesList.append([])\n",
    "        fldcritList.append([])\n",
    "print(tmpList, temperatureList)"
   ]
  },
  {
   "cell_type": "code",
   "execution_count": 13,
   "metadata": {
    "tags": []
   },
   "outputs": [
    {
     "name": "stdout",
     "output_type": "stream",
     "text": [
      "energy [1.33333333]\n"
     ]
    },
    {
     "ename": "NameError",
     "evalue": "name 'xls' is not defined",
     "output_type": "error",
     "traceback": [
      "\u001b[0;31m---------------------------------------------------------------------------\u001b[0m",
      "\u001b[0;31mNameError\u001b[0m                                 Traceback (most recent call last)",
      "\u001b[0;32m/tmp/ipykernel_2668680/1925286723.py\u001b[0m in \u001b[0;36m<module>\u001b[0;34m\u001b[0m\n\u001b[1;32m     10\u001b[0m \u001b[0;34m\u001b[0m\u001b[0m\n\u001b[1;32m     11\u001b[0m \u001b[0minstanton\u001b[0m \u001b[0;34m=\u001b[0m \u001b[0mnp\u001b[0m\u001b[0;34m.\u001b[0m\u001b[0marray\u001b[0m\u001b[0;34m(\u001b[0m\u001b[0minstantonList\u001b[0m\u001b[0;34m)\u001b[0m\u001b[0;34m[\u001b[0m\u001b[0;36m0\u001b[0m\u001b[0;34m]\u001b[0m\u001b[0;34m\u001b[0m\u001b[0;34m\u001b[0m\u001b[0m\n\u001b[0;32m---> 12\u001b[0;31m \u001b[0minstanton\u001b[0m \u001b[0;34m=\u001b[0m \u001b[0minstanton\u001b[0m\u001b[0;34m[\u001b[0m\u001b[0mnp\u001b[0m\u001b[0;34m.\u001b[0m\u001b[0margmax\u001b[0m\u001b[0;34m(\u001b[0m\u001b[0minstanton\u001b[0m\u001b[0;34m)\u001b[0m\u001b[0;34m-\u001b[0m\u001b[0mlen\u001b[0m\u001b[0;34m(\u001b[0m\u001b[0mxls\u001b[0m\u001b[0;34m)\u001b[0m\u001b[0;34m//\u001b[0m\u001b[0;36m2\u001b[0m \u001b[0;34m:\u001b[0m \u001b[0mnp\u001b[0m\u001b[0;34m.\u001b[0m\u001b[0margmax\u001b[0m\u001b[0;34m(\u001b[0m\u001b[0minstanton\u001b[0m\u001b[0;34m)\u001b[0m\u001b[0;34m+\u001b[0m\u001b[0mlen\u001b[0m\u001b[0;34m(\u001b[0m\u001b[0mxls\u001b[0m\u001b[0;34m)\u001b[0m\u001b[0;34m//\u001b[0m\u001b[0;36m2\u001b[0m\u001b[0;34m]\u001b[0m\u001b[0;34m\u001b[0m\u001b[0;34m\u001b[0m\u001b[0m\n\u001b[0m\u001b[1;32m     13\u001b[0m \u001b[0mgradinst\u001b[0m  \u001b[0;34m=\u001b[0m \u001b[0;34m(\u001b[0m\u001b[0mnp\u001b[0m\u001b[0;34m.\u001b[0m\u001b[0mroll\u001b[0m\u001b[0;34m(\u001b[0m\u001b[0minstanton\u001b[0m\u001b[0;34m,\u001b[0m\u001b[0;34m-\u001b[0m\u001b[0;36m1\u001b[0m\u001b[0;34m)\u001b[0m \u001b[0;34m-\u001b[0m \u001b[0minstanton\u001b[0m\u001b[0;34m)\u001b[0m\u001b[0;34m/\u001b[0m\u001b[0mdx\u001b[0m\u001b[0;34m\u001b[0m\u001b[0;34m\u001b[0m\u001b[0m\n\u001b[1;32m     14\u001b[0m \u001b[0minstantonenergy\u001b[0m \u001b[0;34m=\u001b[0m \u001b[0mdx\u001b[0m \u001b[0;34m*\u001b[0m \u001b[0mnp\u001b[0m\u001b[0;34m.\u001b[0m\u001b[0msum\u001b[0m\u001b[0;34m(\u001b[0m\u001b[0mV\u001b[0m\u001b[0;34m(\u001b[0m\u001b[0minstanton\u001b[0m\u001b[0;34m)\u001b[0m \u001b[0;34m+\u001b[0m \u001b[0;36m0.5\u001b[0m\u001b[0;34m*\u001b[0m\u001b[0mgradinst\u001b[0m\u001b[0;34m**\u001b[0m\u001b[0;36m2.\u001b[0m\u001b[0;34m,\u001b[0m \u001b[0maxis\u001b[0m\u001b[0;34m=\u001b[0m\u001b[0;36m0\u001b[0m\u001b[0;34m)\u001b[0m\u001b[0;34m\u001b[0m\u001b[0;34m\u001b[0m\u001b[0m\n",
      "\u001b[0;31mNameError\u001b[0m: name 'xls' is not defined"
     ]
    }
   ],
   "source": [
    "critenergy = np.zeros(len(tmpList))\n",
    "for ii, tmp in enumerate(tmpList):\n",
    "    try:\n",
    "        xls, fldslice, momslice = np.array(fldcritList)[ii]\n",
    "        gradinst  = (np.roll(fldslice,-1) - fldslice)/dx\n",
    "        critenergy[ii] = dx * np.sum(V(fldslice) + 0.5*gradinst**2., axis=0)\n",
    "    except:\n",
    "        critenergy[ii] = 4./3.\n",
    "print('energy', critenergy)\n",
    "\n",
    "instanton = np.array(instantonList)[0]\n",
    "instanton = instanton[np.argmax(instanton)-len(xls)//2 : np.argmax(instanton)+len(xls)//2]\n",
    "gradinst  = (np.roll(instanton,-1) - instanton)/dx\n",
    "instantonenergy = dx * np.sum(V(instanton) + 0.5*gradinst**2., axis=0)\n",
    "print('energy', instantonenergy)"
   ]
  },
  {
   "cell_type": "code",
   "execution_count": 15,
   "metadata": {
    "tags": []
   },
   "outputs": [],
   "source": [
    "M = len(tmpList)\n",
    "TempList = np.array(temperatureList)\n",
    "nTimeMAXList = np.array([262144, 131072, 262144, 262144])\n",
    "\n",
    "lenLatList = np.array([lenLat])\n",
    "dxList = lenLatList/nLat\n",
    "\n",
    "TimeOfSimList = nTimeMAXList[tmpList] * dxList\n",
    "Times = np.array(decayTimes) * dxList"
   ]
  },
  {
   "cell_type": "code",
   "execution_count": 16,
   "metadata": {
    "tags": []
   },
   "outputs": [
    {
     "data": {
      "text/plain": [
       "80.0"
      ]
     },
     "execution_count": 16,
     "metadata": {},
     "output_type": "execute_result"
    }
   ],
   "source": [
    "lenLat"
   ]
  },
  {
   "cell_type": "code",
   "execution_count": 17,
   "metadata": {
    "tags": []
   },
   "outputs": [
    {
     "data": {
      "text/plain": [
       "array([0.0390625])"
      ]
     },
     "execution_count": 17,
     "metadata": {},
     "output_type": "execute_result"
    }
   ],
   "source": [
    "dxList"
   ]
  },
  {
   "cell_type": "code",
   "execution_count": 18,
   "metadata": {
    "tags": []
   },
   "outputs": [
    {
     "data": {
      "text/plain": [
       "array([10240.])"
      ]
     },
     "execution_count": 18,
     "metadata": {},
     "output_type": "execute_result"
    }
   ],
   "source": [
    "TimeOfSimList"
   ]
  },
  {
   "cell_type": "code",
   "execution_count": 19,
   "metadata": {
    "tags": []
   },
   "outputs": [],
   "source": [
    "t_points = 10000\n",
    "t_l = [None]*M\n",
    "\n",
    "Psurv = np.zeros((M,t_points))\n",
    "for j in range(M):\n",
    "    t_l[j] = np.linspace(0, TimeOfSimList[j] - 0.1, t_points)\n",
    "    for i in range(0,len(Times[j])):\n",
    "        if Times[j][i] == 0:\n",
    "            Times[j][i] = TimeOfSimList[j]\n",
    "    Times[j].sort()\n",
    "\n",
    "for j in range(M):\n",
    "    for i in range(0,t_points):\n",
    "        Psurv[j,i] = (Times[j] > t_l[j][i]).sum() / len(Times[j])\n"
   ]
  },
  {
   "cell_type": "code",
   "execution_count": 20,
   "metadata": {},
   "outputs": [
    {
     "name": "stdout",
     "output_type": "stream",
     "text": [
      "0.025\n",
      "mindr, maxdr 0.0 0.025 indmin, indmax 0 20\n",
      "mindr, maxdr 0.025 0.05 indmin, indmax 20 49\n",
      "mindr, maxdr 0.05 0.07500000000000001 indmin, indmax 49 88\n",
      "mindr, maxdr 0.07500000000000001 0.1 indmin, indmax 88 127\n",
      "mindr, maxdr 0.1 0.125 indmin, indmax 127 176\n",
      "mindr, maxdr 0.125 0.15000000000000002 indmin, indmax 176 215\n",
      "mindr, maxdr 0.15000000000000002 0.17500000000000002 indmin, indmax 215 274\n",
      "mindr, maxdr 0.17500000000000002 0.2 indmin, indmax 274 323\n"
     ]
    }
   ],
   "source": [
    "\"\"\" Split into vertical segments, approximate each segment by a line \"\"\"\n",
    "\n",
    "log_Psurv = np.log(Psurv)\n",
    "\n",
    "Offset_t = 100                      # Exclude region t < Offset_t\n",
    "log_P_threshold = .2               # Max decay fraction\n",
    "N_segments = 8\n",
    "\n",
    "Gamma_t_list        = [None]*M\n",
    "Gamma_t_errors_list = [None]*M\n",
    "time_points         = [None]*M\n",
    "time_end_points     = [None]*M\n",
    "num_of_events       = [None]*M\n",
    "init_amps           = [None]*M\n",
    "\n",
    "for i in range(M):\n",
    "    b, b_s, amp, t_middle, t_endpts, num_i = [], [], [], [], [], []\n",
    "\n",
    "    log_P_min = log_Psurv[i][np.argmin(np.abs(t_l[i]>=Offset_t))]\n",
    "    log_P_max = log_P_threshold\n",
    "    Delta_P   = np.abs((log_P_max-log_P_min)/N_segments)\n",
    "    print(Delta_P)\n",
    "\n",
    "    for j in range(N_segments):\n",
    "        mindr  = log_P_min +  j   *Delta_P\n",
    "        maxdr  = log_P_min + (j+1)*Delta_P\n",
    "        indmin = np.argmin(np.abs(log_Psurv[i] + mindr))\n",
    "        indmax = np.argmin(np.abs(log_Psurv[i] + maxdr))\n",
    "        print('mindr, maxdr', mindr, maxdr, 'indmin, indmax', indmin, indmax)\n",
    "\n",
    "        num = len(Times[i][(Times[i] > t_l[i][indmin]) & (Times[i] < t_l[i][indmax])])\n",
    "        num_i += [num]\n",
    "        y1 = log_Psurv[i,indmin]\n",
    "        y2 = log_Psurv[i,indmax]\n",
    "        t1 = t_l[i][indmin]\n",
    "        t2 = t_l[i][indmax]\n",
    "        slope = -(y2-y1)/(t2-t1)\n",
    "        t_middle += [(t1+t2)/2]\n",
    "\n",
    "        t_endpts += [[t1, t2]]\n",
    "        b   += [slope]\n",
    "        b_s += [slope / np.sqrt(num)]\n",
    "        amp += [[log_Psurv[i,indmin], log_Psurv[i,indmax]]]\n",
    "\n",
    "    num_of_events[i]       = np.array(num_i)\n",
    "    Gamma_t_list[i]        = np.array(b)\n",
    "    Gamma_t_errors_list[i] = np.array(b_s)\n",
    "    time_points[i]         = np.array(t_middle)\n",
    "    time_end_points[i]     = np.array(t_endpts)\n",
    "    init_amps[i]           = np.array(amp)"
   ]
  },
  {
   "cell_type": "code",
   "execution_count": 21,
   "metadata": {
    "tags": []
   },
   "outputs": [
    {
     "data": {
      "image/png": "[encoded data removed]",
      "text/plain": [
       "<Figure size 400x260 with 1 Axes>"
      ]
     },
     "metadata": {},
     "output_type": "display_data"
    }
   ],
   "source": [
    "fig, ax = plt.subplots(1, 1, figsize = (4,2.6))\n",
    "gammas1 = np.zeros((len(temperatureList), 2))\n",
    "cls = cycle(allcolors[:len(temperatureList)])\n",
    "\n",
    "for ii, tmp in enumerate(tmpList):\n",
    "    temp, m2, sigmafld = get_model(*general, tmp)\n",
    "    exp_params = [nLat, m2, temp]\n",
    "    maxSim = (1000 if tmp == 0 else 2000 if tmp==1 else 3000 if tmp==2 else 2000)\n",
    "\n",
    "    col = next(cls)\n",
    "    ax.plot(decayTimes[ii]*dxList[ii], f_surv(decayTimes[ii], len(decayTimes[ii])), color=col, ls='-', label=r'${:.2f}$'.format(temp))\n",
    "    ax.plot(t_l[ii], Psurv[ii], color='k', ls=':')\n",
    "\n",
    "ax.set_ylabel(r'$\\ln P_{\\rm surv}$')\n",
    "ax.set_xlabel(r'$t$')\n",
    "ax.set_xscale('log')\n",
    "beautify(ax, loc='best', times=-100, ttl=r'$T=$')\n",
    "fig.tight_layout()\n",
    "plt.show()"
   ]
  },
  {
   "cell_type": "code",
   "execution_count": 22,
   "metadata": {
    "tags": []
   },
   "outputs": [
    {
     "name": "stderr",
     "output_type": "stream",
     "text": [
      "/cm/shared/apps/python/python37/lib/python3.7/site-packages/ipykernel_launcher.py:11: RuntimeWarning: divide by zero encountered in log\n",
      "  # This is added back by InteractiveShellApp.init_path()\n"
     ]
    },
    {
     "data": {
      "image/png": "[encoded data removed]",
      "text/plain": [
       "<Figure size 400x260 with 1 Axes>"
      ]
     },
     "metadata": {},
     "output_type": "display_data"
    }
   ],
   "source": [
    "fig, ax = plt.subplots(1, 1, figsize = (4,2.6))\n",
    "gammas1 = np.zeros((len(temperatureList), 2))\n",
    "cls = cycle(allcolors[:len(temperatureList)])\n",
    "\n",
    "for ii, tmp in enumerate(tmpList):\n",
    "    temp, m2, sigmafld = get_model(*general, tmp)\n",
    "    exp_params = [nLat, m2, temp]\n",
    "    maxSim = (1000 if tmp == 0 else 2000 if tmp==1 else 3000 if tmp==2 else 2000)\n",
    "\n",
    "    col = next(cls)\n",
    "    ax.plot(decayTimes[ii]*dxList[ii], np.log(f_surv(decayTimes[ii], len(decayTimes[ii]))), color=col, ls='-', label=r'$T={:.2f}$'.format(temp))\n",
    "    ax.plot(t_l[ii], np.log(Psurv[ii]), color='k', ls=':')\n",
    "\n",
    "ax.set_ylabel(r'$\\ln P_{\\rm surv}$')\n",
    "ax.set_xlabel(r'$t$')\n",
    "ax.set_ylim(-log_P_threshold, 0.01)\n",
    "ax.set_xscale('log')\n",
    "beautify(ax, loc='best', times=-100)\n",
    "#ax.ticklabel_format(axis='x', style='scientific', scilimits=[-1.,0.])\n",
    "fig.tight_layout()\n",
    "plt.show()"
   ]
  },
  {
   "cell_type": "code",
   "execution_count": 23,
   "metadata": {
    "tags": []
   },
   "outputs": [
    {
     "name": "stderr",
     "output_type": "stream",
     "text": [
      "/cm/shared/apps/python/python37/lib/python3.7/site-packages/ipykernel_launcher.py:11: RuntimeWarning: divide by zero encountered in log\n",
      "  # This is added back by InteractiveShellApp.init_path()\n"
     ]
    },
    {
     "ename": "IndexError",
     "evalue": "index 1 is out of bounds for axis 0 with size 1",
     "output_type": "error",
     "traceback": [
      "\u001b[0;31m---------------------------------------------------------------------------\u001b[0m",
      "\u001b[0;31mIndexError\u001b[0m                                Traceback (most recent call last)",
      "\u001b[0;32m/tmp/ipykernel_2668680/3838665539.py\u001b[0m in \u001b[0;36m<module>\u001b[0;34m\u001b[0m\n\u001b[1;32m     30\u001b[0m \u001b[0;31m#ax.set_xscale('log')\u001b[0m\u001b[0;34m\u001b[0m\u001b[0;34m\u001b[0m\u001b[0;34m\u001b[0m\u001b[0m\n\u001b[1;32m     31\u001b[0m \u001b[0mplt\u001b[0m\u001b[0;34m.\u001b[0m\u001b[0maxvline\u001b[0m\u001b[0;34m(\u001b[0m\u001b[0mTimeOfSimList\u001b[0m\u001b[0;34m[\u001b[0m\u001b[0;36m0\u001b[0m\u001b[0;34m]\u001b[0m\u001b[0;34m)\u001b[0m\u001b[0;34m\u001b[0m\u001b[0;34m\u001b[0m\u001b[0m\n\u001b[0;32m---> 32\u001b[0;31m \u001b[0mplt\u001b[0m\u001b[0;34m.\u001b[0m\u001b[0maxvline\u001b[0m\u001b[0;34m(\u001b[0m\u001b[0mTimeOfSimList\u001b[0m\u001b[0;34m[\u001b[0m\u001b[0;36m1\u001b[0m\u001b[0;34m]\u001b[0m\u001b[0;34m)\u001b[0m\u001b[0;34m\u001b[0m\u001b[0;34m\u001b[0m\u001b[0m\n\u001b[0m\u001b[1;32m     33\u001b[0m \u001b[0mbeautify\u001b[0m\u001b[0;34m(\u001b[0m\u001b[0max\u001b[0m\u001b[0;34m,\u001b[0m \u001b[0mloc\u001b[0m\u001b[0;34m=\u001b[0m\u001b[0;34m'best'\u001b[0m\u001b[0;34m,\u001b[0m \u001b[0mtimes\u001b[0m\u001b[0;34m=\u001b[0m\u001b[0;34m-\u001b[0m\u001b[0;36m100\u001b[0m\u001b[0;34m)\u001b[0m\u001b[0;34m\u001b[0m\u001b[0;34m\u001b[0m\u001b[0m\n\u001b[1;32m     34\u001b[0m \u001b[0;31m#ax.ticklabel_format(axis='x', style='scientific', scilimits=[-1.,0.])\u001b[0m\u001b[0;34m\u001b[0m\u001b[0;34m\u001b[0m\u001b[0;34m\u001b[0m\u001b[0m\n",
      "\u001b[0;31mIndexError\u001b[0m: index 1 is out of bounds for axis 0 with size 1"
     ]
    },
    {
     "data": {
      "image/png": "[encoded data removed]",
      "text/plain": [
       "<Figure size 500x400 with 1 Axes>"
      ]
     },
     "metadata": {},
     "output_type": "display_data"
    }
   ],
   "source": [
    "fig, ax = plt.subplots(1, 1, figsize = (5,4))\n",
    "gammas1 = np.zeros((len(temperatureList), 2))\n",
    "cls = cycle(allcolors[:len(temperatureList)])\n",
    "\n",
    "for ii, tmp in enumerate(tmpList):\n",
    "    temp, m2, sigmafld = get_model(*general, tmp)\n",
    "    exp_params = [nLat, m2, temp]\n",
    "    maxSim = (1000 if tmp == 0 else 2000 if tmp==1 else 3000 if tmp==2 else 2000)\n",
    "\n",
    "    col = next(cls)\n",
    "    ax.plot(decayTimes[ii]*dxList[ii], np.log(f_surv(decayTimes[ii], len(decayTimes[ii]))), color=col, ls='-', label=r'$T={:.2f}$'.format(temp))\n",
    "    ax.plot(t_l[ii], np.log(Psurv[ii]), color='k', ls=':')\n",
    "\n",
    "    for jj in range(N_segments):\n",
    "       # plt.axvline(time_end_points[ii][jj][0], ls=':', color='darkgray')\n",
    "\n",
    "        ind = np.argmin(np.abs(t_l[ii] - time_end_points[ii][jj][0]))\n",
    "\n",
    "        amp = np.log(Psurv[ii][ind])\n",
    "\n",
    "        xs  = np.arange(time_end_points[ii][jj][0], time_end_points[ii][jj][1]+1)\n",
    "        xs0 = xs - time_end_points[ii][jj][0]\n",
    "\n",
    "        plt.plot(xs, amp - Gamma_t_list[ii][jj] * xs0, ls='-', lw=1)\n",
    "\n",
    "ax.set_ylabel(r'$\\ln P_{\\rm surv}$')\n",
    "ax.set_xlabel(r'$t$')\n",
    "ax.set_ylim(-log_P_threshold, 0.01)\n",
    "#ax.set_xlim(1, 2e4)\n",
    "#ax.set_xscale('log')\n",
    "plt.axvline(TimeOfSimList[0])\n",
    "plt.axvline(TimeOfSimList[1])\n",
    "beautify(ax, loc='best', times=-100)\n",
    "#ax.ticklabel_format(axis='x', style='scientific', scilimits=[-1.,0.])\n",
    "fig.tight_layout()\n",
    "plt.show()"
   ]
  },
  {
   "cell_type": "code",
   "execution_count": 24,
   "metadata": {},
   "outputs": [],
   "source": [
    "\"\"\" Extrapolate the tilt of the lines to t=0 \"\"\"\n",
    "\n",
    "def log_Gamma_fit(t, a, b):\n",
    "    return a - b*t\n",
    "\n",
    "log_Gamma_at_zero, slope, log_Gamma_at_zero_error = np.zeros((3, M))\n",
    "\n",
    "for i in range(M):\n",
    "    params, cov = curve_fit(log_Gamma_fit, time_points[i][1:], np.log(Gamma_t_list[i][1:]), sigma=Gamma_t_errors_list[i][1:]/Gamma_t_list[i][1:], absolute_sigma=True)\n",
    "\n",
    "    log_Gamma_at_zero[i] = params[0]\n",
    "    slope[i] = params[1]\n",
    "    log_Gamma_at_zero_error[i] = np.sqrt(cov[0,0])\n"
   ]
  },
  {
   "cell_type": "code",
   "execution_count": 27,
   "metadata": {},
   "outputs": [
    {
     "name": "stdout",
     "output_type": "stream",
     "text": [
      "7.692307692307692\n",
      "energy:\n",
      "1.0 inf 0.0\n"
     ]
    },
    {
     "name": "stderr",
     "output_type": "stream",
     "text": [
      "/home/dpirvu/.local/lib/python3.7/site-packages/scipy/optimize/minpack.py:834: OptimizeWarning: Covariance of the parameters could not be estimated\n",
      "  category=OptimizeWarning)\n"
     ]
    }
   ],
   "source": [
    "\"\"\" Fit: sphaleron energy \"\"\"\n",
    "\n",
    "# reference temperature\n",
    "rf = 0\n",
    "T0_inv = 1./TempList[rf]\n",
    "print(T0_inv)\n",
    "\n",
    "def log_Gamma_th(T_inv, Es):\n",
    "    return - Es * (T_inv - T0_inv)\n",
    "\n",
    "param, cov = curve_fit(log_Gamma_th, 1./TempList, log_Gamma_at_zero - log_Gamma_at_zero[rf], \\\n",
    "                       sigma = np.sqrt(log_Gamma_at_zero_error**2. + log_Gamma_at_zero_error[rf]**2.)/2., absolute_sigma=True)\n",
    "\n",
    "Es = param[0]\n",
    "Es_error = np.sqrt(cov[0,0])\n",
    "\n",
    "chi2 = 0.\n",
    "for i in range(M):\n",
    "    a = log_Gamma_th(1./TempList[i], Es)\n",
    "    b = log_Gamma_at_zero[i]-log_Gamma_at_zero[rf]\n",
    "    c = np.sqrt(log_Gamma_at_zero_error[i]**2 + log_Gamma_at_zero_error[rf]**2)/2\n",
    "    chi2 += ((a-b)/c)**2\n",
    "chi2 /= M\n",
    "\n",
    "print('energy:')\n",
    "print(Es, Es_error, chi2)"
   ]
  },
  {
   "cell_type": "code",
   "execution_count": 28,
   "metadata": {},
   "outputs": [
    {
     "name": "stdout",
     "output_type": "stream",
     "text": [
      "nan\n",
      "nan\n",
      "log of Prefactor:\n",
      "2.191 0.09 0.0\n",
      "ratio:\n",
      "nan\n",
      "nan\n",
      "nan\n"
     ]
    }
   ],
   "source": [
    "\"\"\" Fit: prefactor \"\"\"\n",
    "\n",
    "Es_th = 4./3.\n",
    "T_middle = np.mean(TempList[:-1]); print(T_middle)\n",
    "log_A_th = np.log(6. * lenLat / np.pi * np.sqrt(Es_th / 2. / np.pi / T_middle)); print(log_A_th)\n",
    "\n",
    "def log_Gamma_th2(T_inv, log_A):\n",
    "    return log_A - Es_th * T_inv + 0.5 * np.log(T_inv)\n",
    "\n",
    "param, cov = curve_fit(log_Gamma_th2, 1./TempList, log_Gamma_at_zero, sigma=log_Gamma_at_zero_error, absolute_sigma=True)\n",
    "\n",
    "log_A = param[0]\n",
    "log_A_error = np.sqrt(cov[0,0])\n",
    "\n",
    "chi2 = 0.\n",
    "for i in range(M):\n",
    "    a = log_Gamma_th2(1./TempList[i], log_A)\n",
    "    b = log_Gamma_at_zero[i]\n",
    "    c = log_Gamma_at_zero_error[i]\n",
    "    chi2 += ((a-b)/c)**2.\n",
    "chi2 /= M\n",
    "\n",
    "print('log of Prefactor:')\n",
    "print(round(log_A,3), round(log_A_error,3), round(chi2,3))\n",
    "print('ratio:')\n",
    "print(round(np.exp(log_A)/np.exp(log_A_th),3))\n",
    "print(round(np.exp(log_A_error)/np.exp(log_A_th),3))\n",
    "print(round(log_A - log_A_th,3))\n"
   ]
  },
  {
   "cell_type": "code",
   "execution_count": 29,
   "metadata": {},
   "outputs": [
    {
     "name": "stderr",
     "output_type": "stream",
     "text": [
      "No artists with labels found to put in legend.  Note that artists whose label start with an underscore are ignored when legend() is called with no argument.\n"
     ]
    },
    {
     "name": "stdout",
     "output_type": "stream",
     "text": [
      "[7.69230769] [-2.19111226] [0.08971512]\n"
     ]
    },
    {
     "data": {
      "image/png": "[encoded data removed]",
      "text/plain": [
       "<Figure size 500x300 with 1 Axes>"
      ]
     },
     "metadata": {},
     "output_type": "display_data"
    }
   ],
   "source": [
    "\"\"\" Plot Prefactor \"\"\"\n",
    "\n",
    "Tinv = np.linspace(1./TempList[0], 1./TempList[-1], 100)\n",
    "\n",
    "fig, ax = plt.subplots(1, 1, figsize=(5,3))\n",
    "ax.errorbar(1./TempList, log_Gamma_at_zero + Es_th/TempList + 0.5 * np.log(TempList) - np.log(lenLatList), log_Gamma_at_zero_error, color='k', fmt='o', elinewidth=1, capsize=3)\n",
    "print(1./TempList, log_Gamma_at_zero + Es_th/TempList + 0.5 * np.log(TempList) - np.log(lenLatList), log_Gamma_at_zero_error)\n",
    "\n",
    "ax.plot(Tinv, log_Gamma_th2(Tinv, log_A) + Es_th*Tinv - 0.5 * np.log(Tinv) - np.log(lenLat), color='k')\n",
    "\n",
    "ax.fill_between(Tinv, log_Gamma_th2(Tinv, log_A-log_A_error) + Es_th*Tinv - 0.5 * np.log(Tinv) - np.log(lenLat), \\\n",
    "                      log_Gamma_th2(Tinv, log_A+log_A_error) + Es_th*Tinv - 0.5 * np.log(Tinv) - np.log(lenLat), color='k', alpha=0.2)\n",
    "\n",
    "#ax.plot(1./T_middle, log_Gamma_th2(1./T_middle, log_A_th) + Es_th/T_middle + 0.5 * np.log(T_middle), color='r', marker='o')\n",
    "\n",
    "plt.xlabel(r'$T^{-1}$', fontsize=16)\n",
    "ax.set_ylabel(r'$\\ln\\: \\Gamma + E_sT^{-1} + 0.5 \\ln T$', fontsize=16)\n",
    "beautify(ax, times=-100)\n",
    "plt.tight_layout()\n",
    "plt.savefig('./plots/pref.pdf')\n",
    "plt.show()"
   ]
  },
  {
   "cell_type": "code",
   "execution_count": 30,
   "metadata": {},
   "outputs": [
    {
     "name": "stderr",
     "output_type": "stream",
     "text": [
      "No artists with labels found to put in legend.  Note that artists whose label start with an underscore are ignored when legend() is called with no argument.\n"
     ]
    },
    {
     "data": {
      "image/png": "[encoded data removed]",
      "text/plain": [
       "<Figure size 500x300 with 1 Axes>"
      ]
     },
     "metadata": {},
     "output_type": "display_data"
    }
   ],
   "source": [
    "\"\"\" Plot the decay rate extrapolation lines \"\"\"\n",
    "\n",
    "fig, ax = plt.subplots(1, 1, figsize=(5,3))\n",
    "clr = ['black', 'blue', 'red']\n",
    "shp = ['o', 'v', 's']\n",
    "j = 0\n",
    "for i in range(len(tmpList)):\n",
    "    ax.errorbar(time_points[i][1:-1], np.log(Gamma_t_list[i][1:-1]), Gamma_t_errors_list[i][1:-1]/Gamma_t_list[i][1:-1], color=clr[j], fmt=shp[j], elinewidth=1,capsize=3)\n",
    "    ax.errorbar([7500],[-10.5+j*0.3],[0],color=clr[j], fmt=shp[j], elinewidth=1,capsize=3)\n",
    "    plt.text(8000,-10.55+j*0.3,r'$T=$'+f'{TempList[i]}',fontsize=13)\n",
    "    ax.plot(t_l[i],log_Gamma_fit(t_l[i],log_Gamma_at_zero[i],slope[i]),color=clr[j],linewidth=0.5)\n",
    "    j += 1\n",
    "plt.xlabel(r'$t$',fontsize=16)\n",
    "plt.xlim((0,11000))\n",
    "plt.ylim((-11.7,-6.4))\n",
    "ax.set_ylabel(r'$\\ln\\:\\Gamma(t)$',fontsize=16)\n",
    "#plt.savefig('Gamma(t).pdf')\n",
    "beautify(ax, times=-100)\n",
    "plt.tight_layout()\n",
    "plt.show()"
   ]
  },
  {
   "cell_type": "code",
   "execution_count": 31,
   "metadata": {
    "tags": []
   },
   "outputs": [
    {
     "name": "stderr",
     "output_type": "stream",
     "text": [
      "No artists with labels found to put in legend.  Note that artists whose label start with an underscore are ignored when legend() is called with no argument.\n"
     ]
    },
    {
     "data": {
      "image/png": "[encoded data removed]",
      "text/plain": [
       "<Figure size 500x300 with 1 Axes>"
      ]
     },
     "metadata": {},
     "output_type": "display_data"
    }
   ],
   "source": [
    "\"\"\" Plot the resulting fit \"\"\"\n",
    "\n",
    "Tinv = np.linspace(1./TempList[0], 1./TempList[-1], 100)\n",
    "fig, ax = plt.subplots(1, 1, figsize=(5,3))\n",
    "ax.plot(Tinv, log_Gamma_th(Tinv, Es), 'black', linewidth=1)\n",
    "\n",
    "ax.plot(Tinv, log_Gamma_th2(Tinv, log_A_th)-log_Gamma_th2(1./TempList[rf], log_A_th), 'red', linestyle='dashed', linewidth=1)\n",
    "\n",
    "plt.errorbar(1./TempList, log_Gamma_at_zero-log_Gamma_at_zero[rf], \\\n",
    "             np.sqrt(log_Gamma_at_zero_error**2 + log_Gamma_at_zero_error[rf]**2)/2, color='black', fmt='o', elinewidth=1, capsize=3)\n",
    "\n",
    "plt.xlabel(r'$T^{-1}$',fontsize=16)\n",
    "ax.set_ylabel(r'$\\ln\\: (\\Gamma(T)/\\Gamma(T_*))$',fontsize=16)\n",
    "#plt.text(10.6,0.52,r'$E_s^{(exp)}=1.329\\pm 0.087$',fontsize=14)\n",
    "#plt.savefig('E_sph1.pdf')\n",
    "beautify(ax, times=-80)\n",
    "plt.tight_layout()\n",
    "plt.show()"
   ]
  },
  {
   "cell_type": "code",
   "execution_count": null,
   "metadata": {},
   "outputs": [],
   "source": []
  },
  {
   "cell_type": "code",
   "execution_count": null,
   "metadata": {},
   "outputs": [],
   "source": []
  }
 ],
 "metadata": {
  "kernelspec": {
   "display_name": "Python 3.7 (module)",
   "language": "python",
   "name": "python37-module"
  },
  "language_info": {
   "codemirror_mode": {
    "name": "ipython",
    "version": 3
   },
   "file_extension": ".py",
   "mimetype": "text/x-python",
   "name": "python",
   "nbconvert_exporter": "python",
   "pygments_lexer": "ipython3",
   "version": "3.7.16"
  }
 },
 "nbformat": 4,
 "nbformat_minor": 4
}
