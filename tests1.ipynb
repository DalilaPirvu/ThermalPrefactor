{
 "cells": [
  {
   "cell_type": "markdown",
   "metadata": {},
   "source": [
    "## Decay Rates"
   ]
  },
  {
   "cell_type": "code",
   "execution_count": 1,
   "metadata": {
    "tags": []
   },
   "outputs": [
    {
     "name": "stdout",
     "output_type": "stream",
     "text": [
      "/home/dpirvu/project/paper_prefactor\n"
     ]
    }
   ],
   "source": [
    "cd '/home/dpirvu/project/paper_prefactor/'"
   ]
  },
  {
   "cell_type": "code",
   "execution_count": 2,
   "metadata": {
    "tags": []
   },
   "outputs": [
    {
     "name": "stdout",
     "output_type": "stream",
     "text": [
      "['/home/dpirvu/project/paper_prefactor', '/cm/shared/apps/python/python37/lib/python37.zip', '/cm/shared/apps/python/python37/lib/python3.7', '/cm/shared/apps/python/python37/lib/python3.7/lib-dynload', '', '/home/dpirvu/.local/lib/python3.7/site-packages', '/home/dpirvu/DarkPhotonxunWISE/hmvec-master', '/cm/shared/apps/python/python37/lib/python3.7/site-packages', '/cm/shared/apps/python/python37/lib/python3.7/site-packages/IPython/extensions', '/home/dpirvu/.ipython', '/home/dpirvu/python_stuff/', '/home/dpirvu/project/paper_prefactor/bubble_codes/']\n",
      "['/home/dpirvu/project/paper_prefactor', '/cm/shared/apps/python/python37/lib/python37.zip', '/cm/shared/apps/python/python37/lib/python3.7', '/cm/shared/apps/python/python37/lib/python3.7/lib-dynload', '', '/home/dpirvu/.local/lib/python3.7/site-packages', '/home/dpirvu/DarkPhotonxunWISE/hmvec-master', '/cm/shared/apps/python/python37/lib/python3.7/site-packages', '/cm/shared/apps/python/python37/lib/python3.7/site-packages/IPython/extensions', '/home/dpirvu/.ipython', '/home/dpirvu/python_stuff/', '/home/dpirvu/project/paper_prefactor/bubble_codes/']\n"
     ]
    }
   ],
   "source": [
    "import os,sys\n",
    "sys.path.append('/home/dpirvu/python_stuff/')\n",
    "sys.path.append('/home/dpirvu/project/paper_prefactor/bubble_codes/')\n",
    "#sys.path.append('/home/dpirvu/project/paper_prefactor/bubble_codes_older/')\n",
    "#sys.path.remove('/home/dpirvu/DarkPhotonxunWISE/hmvec-master')\n",
    "print(sys.path)\n",
    "from plotting import *\n",
    "from bubble_tools import *\n",
    "from experiment import *\n",
    "from celluloid import Camera\n",
    "\n",
    "%matplotlib inline"
   ]
  },
  {
   "cell_type": "code",
   "execution_count": 3,
   "metadata": {
    "tags": []
   },
   "outputs": [],
   "source": [
    "case = 'minus'\n",
    "general = get_general_model(case)\n",
    "tempList, massq, right_Vmax, V, dV, Vinv, nTimeMAX, minSim, maxSim = general\n"
   ]
  },
  {
   "cell_type": "code",
   "execution_count": 4,
   "metadata": {
    "tags": []
   },
   "outputs": [
    {
     "name": "stdout",
     "output_type": "stream",
     "text": [
      "0.23030938081773686\n",
      "sigma 0 [0.2501, 0.25]\n",
      "sigma 1 [0.1842, 0.1838]\n",
      "sigma 2 [-0.0707, -0.0717]\n",
      "sigma 3 [-0.6128, -0.6151]\n",
      "0.2661087871323195\n",
      "sigma 0 [0.2501, 0.25]\n",
      "sigma 1 [0.1593, 0.1589]\n",
      "sigma 2 [-0.2034, -0.2047]\n",
      "sigma 3 [-0.9955, -0.9989]\n",
      "0.3415271460137985\n",
      "sigma 0 [0.2501, 0.25]\n",
      "sigma 1 [0.0904, 0.0898]\n",
      "sigma 2 [-0.5883, -0.5906]\n",
      "sigma 3 [-2.1458, -2.1527]\n"
     ]
    },
    {
     "data": {
      "image/png": "[encoded data removed]",
      "text/plain": [
       "<Figure size 350x250 with 1 Axes>"
      ]
     },
     "metadata": {},
     "output_type": "display_data"
    }
   ],
   "source": [
    "if True:\n",
    "    philist = np.linspace(-1, 2, 1000)\n",
    "    fig, ax = plt.subplots(1, 1, figsize=(3.5, 2.5))\n",
    "\n",
    "    Vunbounded = lambda x: 0.5*x**2. - 0.25*x**4.# + x**6. * 1e-4\n",
    "    for tmp in range(len(tempList)):\n",
    "        temp, m2, sigmafld = get_model(*general, tmp)\n",
    "        maxSim = (1000 if tmp == 0 else 2000)\n",
    "        print(sigmafld)\n",
    "        exp_params = np.asarray([nLat, m2, temp])\n",
    "\n",
    "        ax.plot(philist, V(philist), label=r'$T={:.2f}$'.format(temp))\n",
    "        #ax.plot(sigmafld, V(sigmafld), 'go', ms=2)\n",
    "        ax.plot(philist, Vunbounded(philist), ls='--')\n",
    "        cych = cycle(allcolors)\n",
    "        for nn in np.linspace(0, 3, 4):\n",
    "            col=next(cych)\n",
    "            plt.plot(right_Vmax + nn*sigmafld, V(right_Vmax + nn*sigmafld), 'o', color=col, ms=4)\n",
    "            plt.plot(right_Vmax + nn*sigmafld, Vunbounded(right_Vmax + nn*sigmafld), 'o', color=col, ms=4)\n",
    "\n",
    "            nums = [V(right_Vmax + nn*sigmafld), Vunbounded(right_Vmax + nn*sigmafld)]\n",
    "            print('sigma', int(nn), [round(ii, 4) for ii in nums])\n",
    "  #  ax.set_ylim((-.1, .5))\n",
    "    ax.set_xlabel(r'$\\bar{\\varphi}$')\n",
    "    ax.set_ylabel(r'$V(\\bar{\\varphi},\\; g)$')\n",
    "    beautify(ax, bb=(1,1), times=-100)\n",
    "    plt.savefig('./plots/potential.pdf')\n",
    "    plt.show()\n"
   ]
  },
  {
   "cell_type": "code",
   "execution_count": 98,
   "metadata": {
    "tags": []
   },
   "outputs": [
    {
     "name": "stdout",
     "output_type": "stream",
     "text": [
      "Experiment [2048, 0.85, 0.1]\n",
      "45764\n"
     ]
    }
   ],
   "source": [
    "tmp = 0\n",
    "maxSim = (1000 if tmp == 0 else 2000)\n",
    "temp, m2, sigmafld = get_model(*general, tmp)\n",
    "exp_params = [nLat, m2, temp]\n",
    "print('Experiment', exp_params)\n",
    "\n",
    "sim = 10\n",
    "path2sim = sim_location(*exp_params, sim)\n",
    "#path2bubblesim = bubble_sim_location(*exp_params, sim)\n",
    "path2cleansim = clean_sim_location(*exp_params, sim)\n",
    "\n",
    "decays_times = np.load(decaytimes4real_file(*exp_params, minSim, maxSim, nTimeMAX), allow_pickle=True)\n",
    "simind = np.argwhere(decays_times[:,0] == sim)[0,0]\n",
    "tdecay = decays_times[simind,1]\n",
    "tdecay = tdecay\n",
    "print(tdecay)"
   ]
  },
  {
   "cell_type": "code",
   "execution_count": 99,
   "metadata": {
    "tags": []
   },
   "outputs": [],
   "source": [
    "tdecay, outcome, initcond, real, prebubble, bubble = get_realisation(nLat, nTimeMAX, path2sim)\n",
    "real[np.isnan(real)] = 0.\n",
    "\n",
    "nC, nT, nN = np.shape(real)\n",
    "fld, mom = real[0], real[1]\n",
    "duration = nT\n",
    "tlist = np.arange(duration) * 1024"
   ]
  },
  {
   "cell_type": "code",
   "execution_count": 121,
   "metadata": {
    "tags": []
   },
   "outputs": [],
   "source": [
    "realbub = np.load(path2cleansim, allow_pickle=True)\n",
    "\n",
    "nC, nT, nN = np.shape(realbub)\n",
    "fldbub, mombub = realbub[0], realbub[1]\n",
    "startt    = (tdecay // 1024) * 1024\n",
    "tlistbub  = np.arange(startt, startt+nT)"
   ]
  },
  {
   "cell_type": "code",
   "execution_count": 125,
   "metadata": {
    "tags": []
   },
   "outputs": [
    {
     "data": {
      "text/plain": [
       "<Figure size 640x480 with 0 Axes>"
      ]
     },
     "metadata": {},
     "output_type": "display_data"
    }
   ],
   "source": [
    "%run './bubble_codes/plotting.py'"
   ]
  },
  {
   "cell_type": "code",
   "execution_count": 145,
   "metadata": {
    "tags": []
   },
   "outputs": [
    {
     "data": {
      "image/png": "[encoded data removed]",
      "text/plain": [
       "<Figure size 500x400 with 2 Axes>"
      ]
     },
     "metadata": {},
     "output_type": "display_data"
    }
   ],
   "source": [
    "ax = simple_imshow(realbub, np.arange(nN), tlistbub, ret=True)\n",
    "ax.axhline(tdecay - 3/dx, color='r')\n",
    "plt.show()"
   ]
  },
  {
   "cell_type": "code",
   "execution_count": 102,
   "metadata": {
    "tags": []
   },
   "outputs": [],
   "source": [
    "KEN_real, GEN_real, PEN_real, TEN_real = get_simulation_energy(real, nLat, lenLat, V)\n",
    "\n",
    "KEN_real_bub, GEN_real_bub, PEN_real_bub, TEN_real_bub = get_simulation_energy(realbub, nLat, lenLat, V)"
   ]
  },
  {
   "cell_type": "code",
   "execution_count": 143,
   "metadata": {
    "tags": []
   },
   "outputs": [
    {
     "data": {
      "image/png": "[encoded data removed]",
      "text/plain": [
       "<Figure size 700x250 with 1 Axes>"
      ]
     },
     "metadata": {},
     "output_type": "display_data"
    }
   ],
   "source": [
    "fig, ax = plt.subplots(1,1, figsize = (7,2.5))\n",
    "\n",
    "#ax.plot(tlist[tlist < tdecay], KEN_real[tlist < tdecay]/KEN_real[0] - 1., label=r'$KE$',  ls='-', color='g')\n",
    "#ax.plot(tlist[tlist < tdecay], GEN_real[tlist < tdecay]/GEN_real[0] - 1., label=r'$GE$',  ls='-', color='r')\n",
    "#ax.plot(tlist[tlist < tdecay], PEN_real[tlist < tdecay]/PEN_real[0] - 1., label=r'$PE$',  ls='-', color='y')\n",
    "ax.plot(tlist[tlist < tdecay-3/dx], TEN_real[tlist < tdecay-3/dx]/TEN_real[0] -1., label=r'$TE$',  ls='-', color='b', ms=3, marker='o')\n",
    "\n",
    "#ax.plot(tlistbub[tlistbub < tdecay], PEN_real_bub[tlistbub < tdecay]/PEN_real_bub[0] - 1., ls='-', lw=1, color='y', ms=1, marker='o')\n",
    "#ax.plot(tlistbub[tlistbub < tdecay], GEN_real_bub[tlistbub < tdecay]/GEN_real_bub[0] - 1., ls='-', lw=1, color='r', ms=1, marker='o')\n",
    "#ax.plot(tlistbub[tlistbub < tdecay], KEN_real_bub[tlistbub < tdecay]/KEN_real_bub[0] - 1., ls='-', lw=1, color='g', ms=1, marker='o')\n",
    "ax.plot(tlistbub[tlistbub < tdecay-3/dx], TEN_real_bub[tlistbub < tdecay-3/dx]/TEN_real_bub[0] - 1., ls='-', lw=1, color='k', ms=1, marker='o')\n",
    "\n",
    "ax.axvline(tdecay)\n",
    "ax.axvline(tdecay-2/dx)\n",
    "ax.set_xlabel(r'$t$')\n",
    "ax.set_xlim((tlistbub[0], tdecay-2/dx))#tlistbub[-1]))\n",
    "#ax.set_xscale('log')\n",
    "ax.set_title(r'${{\\rm Simulation}}={:.0f}$'.format(sim) + r', $T={:.2f}$'.format(temp))\n",
    "beautify(ax, times=-70)\n",
    "plt.tight_layout()\n",
    "plt.show()"
   ]
  },
  {
   "cell_type": "code",
   "execution_count": 146,
   "metadata": {},
   "outputs": [
    {
     "name": "stdout",
     "output_type": "stream",
     "text": [
      "Experiment [2048, 0.85, 0.1]\n",
      "Experiment [2048, 0.7, 0.2]\n"
     ]
    }
   ],
   "source": [
    "bubbleList, velocitesList, instantonList, tmpList, fldcritList, tcritList, encritList = [], [], [], [], [], [], []\n",
    "for tmp in [0,2]:\n",
    "    case = 'minus'\n",
    "    general = get_general_model(case)\n",
    "    tempList, massq, right_Vmax, V, dV, Vinv, nTimeMAX, minSim, maxSim = general\n",
    "    maxSim = (1000 if tmp == 0 else 2000)\n",
    "    temp, m2, sigmafld = get_model(*general, tmp)\n",
    "\n",
    "    exp_params = [nLat, m2, temp]\n",
    "    print('Experiment', exp_params)\n",
    "\n",
    "    bubbleList.append(np.load(average_file(*exp_params)))\n",
    "    velocitesList.append(np.load(velocities_file(*exp_params)))\n",
    "    instantonList.append(np.load(ansol_instanton_file(*exp_params)))\n",
    "    tmpList.append(tmp)\n",
    "    fldcritList.append(np.load(critfield_file(*exp_params)))\n",
    "    tcritList.append(np.load(crittimes_file(*exp_params)))\n",
    "    encritList.append(np.load(critenerg_file(*exp_params)))\n"
   ]
  },
  {
   "cell_type": "code",
   "execution_count": 8,
   "metadata": {},
   "outputs": [],
   "source": [
    "getps = False\n",
    "if getps:\n",
    "    clls = allcolors\n",
    "    for tmp in range(len(tempList)):\n",
    "        phi0, temp, lamb, sigmafld, minSim, maxSim, right_Vmax = get_model(tmp)\n",
    "        maxSim = (1000 if tmp == 0 else 2000)\n",
    "        exp_params = np.asarray([nLat, lamb, phi0, temp])\n",
    "\n",
    "        # 0 for field; 1 for momentum \n",
    "        find = 0\n",
    "        # modes to plot:\n",
    "        aa, bb = 1, knyq-1\n",
    "        # time steps to plot\n",
    "        tslist = np.array([0,5,20,46,72,101])\n",
    "\n",
    "        ALL_powspec1 = np.load(powspec_tlist_file(*exp_params, minSim, maxSim))\n",
    "        tlist, PSfld1 = ALL_powspec1[0][tslist], ALL_powspec1[1][:, find, tslist, aa:bb]\n",
    "        del ALL_powspec1\n",
    "\n",
    "        ALL_powspec2 = np.load(powspec_tlist_file(*exp_params, minSim, maxSim))\n",
    "        tlist, PSfld2 = ALL_powspec2[0][tslist], ALL_powspec2[1][:, find, tslist, aa:bb]\n",
    "        del ALL_powspec2\n",
    "\n",
    "        fig, ax = plt.subplots(1,1, figsize = (5.,2.7))\n",
    "        plt.axhline(1., ls='-', color='k')\n",
    "        for tind, tt in enumerate(reversed(tlist)):\n",
    "            tind = len(tlist) - 1 - tind\n",
    "            curve = np.nanmean(np.concatenate((PSfld1[:,tind], PSfld2[:,tind]), axis=0), axis=0)\n",
    "            curve/=pspec(lamb, phi0, temp)[aa:bb]\n",
    "\n",
    "            plt.plot(klist[aa:bb]/np.sqrt(m2(lamb)), curve, ls='-', color=clls[tind], alpha=0.25, lw=1)\n",
    "\n",
    "        for tind, tt in enumerate(reversed(tlist)):\n",
    "            tind = len(tlist) - 1 - tind\n",
    "            curve = np.nanmean(np.concatenate((PSfld1[:,tind], PSfld2[:,tind]), axis=0), axis=0)\n",
    "            curve/=pspec(lamb, phi0, temp)[aa:bb]\n",
    "\n",
    "            lab = r'${:.0f}$'.format(round(tt*dx*np.sqrt(m2(lamb)),0))\n",
    "            curve = gaussian_filter1d(curve, 6, mode='nearest')\n",
    "            plt.plot(klist[aa:bb]/np.sqrt(m2(lamb)), curve, ls='-', color=clls[tind], label=lab)\n",
    "\n",
    "        del PSfld1, PSfld2\n",
    "\n",
    "        beautify(ax)\n",
    "        h, l = ax.get_legend_handles_labels() # Extracting handles and labels\n",
    "        h = h[::-1]\n",
    "        l = l[::-1]\n",
    "        handles = [plt.plot([],marker=\"\", ls=\"\")[0]]*2 + h\n",
    "        labels = ['', r'$m\\,t:$'] + l  # Merging labels\n",
    "        leg = ax.legend(handles, labels, ncol=4, frameon=False, loc=4, labelspacing=0.3, columnspacing=0.5)#._legend_box.align='left'\n",
    "\n",
    "        ax.set_xlim((klist[aa]/np.sqrt(m2(lamb))*0.9, klist[bb-1]/np.sqrt(m2(lamb))*1.1))\n",
    "        ax.set_xscale('log')\n",
    "        ax.set_xlabel(r'$k/m$')\n",
    "        ax.set_ylabel(r'$\\left\\langle \\left|\\bar{\\varphi}_k(t)\\right|^2 / \\left|\\bar{\\varphi}_k(0)\\right|^2 \\right\\rangle $')\n",
    "        plt.tight_layout()\n",
    "        plt.savefig('./plots/powespec_tevol.pdf')\n",
    "        plt.show()\n"
   ]
  },
  {
   "cell_type": "code",
   "execution_count": 9,
   "metadata": {},
   "outputs": [],
   "source": [
    "if getps:\n",
    "    savemeff = np.zeros((4))\n",
    "    cls = cycle(allcolors[:4])\n",
    "    for tmp in range(len(tempList)):\n",
    "        if tmp==4: break\n",
    "        phi0, temp, lamb, sigmafld, minSim, maxSim, right_Vmax = get_model(tmp)\n",
    "        maxSim = (1000 if tmp == 0 else 2000)\n",
    "        exp_params = np.asarray([nLat, lamb, phi0, temp])\n",
    "\n",
    "        # modes to plot:\n",
    "        indmax = np.arange(len(klist))[(klist/np.sqrt(m2(lamb))>0.)&(klist/np.sqrt(m2(lamb))<=2.2)][-1]\n",
    "        aa, bb = 1, indmax#knyq//5\n",
    "        ta, tb = -50, -1\n",
    "        \n",
    "        ALL_powspec1 = np.load(powspec_tlist_file(*exp_params, minSim, 2000))\n",
    "        tlist, PSfld1, PSmom1 = ALL_powspec1[0], ALL_powspec1[1][:, 0, ta:tb, aa:bb], ALL_powspec1[1][:, 1, ta:tb, aa:bb]\n",
    "        del ALL_powspec1\n",
    "\n",
    "        ALL_powspec2 = np.load(powspec_tlist_file(*exp_params, 2000, maxSim))\n",
    "        tlist, PSfld2, PSmom2 = ALL_powspec2[0], ALL_powspec2[1][:, 0, ta:tb, aa:bb], ALL_powspec2[1][:, 1, ta:tb, aa:bb]\n",
    "        del ALL_powspec2\n",
    "\n",
    "        avPSfld = np.nanmean(np.nanmean(np.concatenate((PSfld1, PSfld2), axis=0), axis=1), axis=0)\n",
    "        avPSmom = np.nanmean(np.nanmean(np.concatenate((PSmom1, PSmom2), axis=0), axis=1), axis=0)\n",
    "        del PSfld1, PSfld2, PSmom1, PSmom2\n",
    "        curve   = (avPSmom/avPSfld)\n",
    "\n",
    "        w2m      = lambda ks, m: ks**2. + m**2.\n",
    "        pofk     = lambda ks, m: w2m(ks, m)\n",
    "        pred_fit = lambda x, data: sco.curve_fit(pofk, x, data, p0=0.09)[0]\n",
    "\n",
    "        fig, ax = plt.subplots(1,1, figsize = (3.5,2.5))\n",
    "        col = next(cls)\n",
    "        #lab1 = r'$\\rm Data$'\n",
    "        lab1 = r'${:.1f}$'.format(temp/np.sqrt(m2(lamb)))\n",
    "        plt.plot(klist[aa:bb]/np.sqrt(m2(lamb)), curve, ls='-', color=col, label=lab1)\n",
    "\n",
    "        best_ps = pred_fit(klist[aa:bb], curve)\n",
    "        savemeff[tmp] = best_ps[0]\n",
    "     #   lab2 = r'$m_{\\rm eff}=$'+r'${:.4f}$'.format(*best_ps)\n",
    "        plt.plot(klist[aa:bb]/np.sqrt(m2(lamb)), pofk(klist[aa:bb], *best_ps), color='k', ls=':', lw=1)#, label=lab2)\n",
    "\n",
    "        plt.plot(klist[aa:bb]/np.sqrt(m2(lamb)), pofk(klist[aa:bb], np.sqrt(m2(lamb))), ls='-', lw=1, color='k')#, lab=lab0)\n",
    "        ax.set_yscale('log')\n",
    "        ax.set_xscale('log')\n",
    "        #ax.set_ylabel(r'$\\left\\langle \\left|\\bar{\\Pi}_k(t)\\right|^2/\\left|\\bar{\\varphi}_k(t)\\right|^2 \\right\\rangle $')\n",
    "        ax.set_ylabel(r'$\\omega_k$')\n",
    "        ax.set_xlabel(r'$k/m$')\n",
    "        beautify(ax, ttl=r'$T/m:$', loc=2)\n",
    "        plt.show()\n",
    "\n",
    "    print(savemeff)"
   ]
  },
  {
   "cell_type": "code",
   "execution_count": 10,
   "metadata": {},
   "outputs": [],
   "source": [
    "if getps:\n",
    "    fig, ax = plt.subplots(1,1, figsize = (4,3))\n",
    "    cls = cycle(allcolors[:4])\n",
    "    for zi, stuff in enumerate(np.array(view_meff_func_t)):\n",
    "        col = next(cls)\n",
    "        plt.plot(stuff[:,0]*dx/lenLat, stuff[:,1], label=r'${:.1f}$'.format(tempList[zi]/np.sqrt(m2(lamb))), color=col)\n",
    "        plt.axhline(savemeff[zi], color=col, ls=':')\n",
    "    plt.ylabel(r'$m_{\\rm eff}(t)$')\n",
    "    plt.xlabel(r'$t/L$')\n",
    "    beautify(ax, ttl=r'$T/m:$', ncol=2)\n",
    "    plt.tight_layout()\n",
    "    plt.savefig('./plots/masses_tevol.pdf')\n",
    "    plt.show()"
   ]
  },
  {
   "cell_type": "code",
   "execution_count": 11,
   "metadata": {},
   "outputs": [],
   "source": [
    "if getps:\n",
    "    fig, ax = plt.subplots(1, 4, figsize = (12,3.), gridspec_kw={'width_ratios': [2.,2.,2.,1.]})\n",
    "    for tmp in range(len(tempList)):\n",
    "        if tmp!=3: continue\n",
    "        col = allcolors[tmp]\n",
    "        phi0, temp, lamb, sigmafld, minSim, maxSim, right_Vmax = get_model(tmp)\n",
    "        exp_params = np.asarray([nLat, lamb, phi0, temp])\n",
    "\n",
    "        indmax = np.arange(len(klist))[(klist/np.sqrt(m2(lamb))>0.)&(klist/np.sqrt(m2(lamb))<=3.3)][-1]\n",
    "        # modes to plot:\n",
    "        aa, bb = 0, indmax\n",
    "        # time slices to average\n",
    "        am, bm = -50, -1\n",
    "\n",
    "        ALL_powspec1 = np.load(powspec_tlist_file(*exp_params, minSim, 2000))\n",
    "        tlist, PSfld1, PSmom1 = ALL_powspec1[0], ALL_powspec1[1][:, 0, am:bm, aa:bb], ALL_powspec1[1][:, 1, am:bm, aa:bb]\n",
    "        del ALL_powspec1\n",
    "        ALL_powspec2 = np.load(powspec_tlist_file(*exp_params, 2000, maxSim))\n",
    "        tlist, PSfld2, PSmom2 = ALL_powspec2[0], ALL_powspec2[1][:, 0, am:bm, aa:bb], ALL_powspec2[1][:, 1, am:bm, aa:bb]\n",
    "        del ALL_powspec2\n",
    "\n",
    "        avPSfld = np.nanmean(np.nanmean(np.concatenate((PSfld1, PSfld2), axis=0), axis=1), axis=0)\n",
    "        avPSmom = np.nanmean(np.nanmean(np.concatenate((PSmom1, PSmom2), axis=0), axis=1), axis=0)\n",
    "        del PSfld1, PSfld2, PSmom1, PSmom2\n",
    "        curve   = (avPSmom/avPSfld)\n",
    "\n",
    "        w2m     = lambda ks, m: ks**2. + m**2.\n",
    "        pofk_w2 = lambda ks, m: w2m(ks, m)\n",
    "\n",
    "        ax[0].plot(klist[aa:bb]/np.sqrt(m2(lamb)), pofk_w2(klist[aa:bb], np.sqrt(m2(lamb)))/m2(lamb), ls='-', lw=1, color='k')#, label=lab0)\n",
    "\n",
    "        ax[0].plot(klist[aa:bb]/np.sqrt(m2(lamb)), curve/m2(lamb), ls='-', color=col)#, label=lab1)\n",
    "\n",
    "        lab2 = r'$m_{\\rm eff}/m=$'+r'${:.2f}$'.format(savemeff[tmp]/np.sqrt(m2(lamb))) + r'$\\newline$'\n",
    "        ax[0].plot(klist[aa:bb]/np.sqrt(m2(lamb)), pofk_w2(klist[aa:bb], savemeff[tmp])/m2(lamb), color='k', ls=':', lw=1, label=lab2)\n",
    "        ax[0].legend(ncol=1, frameon=False, loc=2, handlelength=1)\n",
    "\n",
    "        norml       = 1./ phi0 / np.sqrt(2. * lenLat)\n",
    "        w2m_fld     = lambda ks, msq: ks**2. + msq\n",
    "        pofk0_fld   = lambda ks, msq, te: norml / w2m_fld(ks, msq)**0.25 * np.sqrt(2./(np.exp(w2m_fld(ks, msq)**0.5/te) - 1.))\n",
    "        pofk_fld    = lambda ks, msq, te: norml / w2m_fld(ks, msq)**0.25 * np.sqrt(2./(w2m_fld(ks, msq)**0.5/te))\n",
    "        f_pred1_fld = lambda ks, te: np.abs(pofk_fld(ks, savemeff[tmp]**2., te))**2.\n",
    "        f_pred2_fld = lambda ks, te: np.abs(pofk0_fld(ks, m2(lamb), te))**2.\n",
    "\n",
    "        # modes to plot:\n",
    "        aa, bb = 0, 10*indmax\n",
    "        # time slices to average\n",
    "        am, bm = -50, -1\n",
    "\n",
    "        ALL_powspec1 = np.load(powspec_tlist_file(*exp_params, minSim, 2000))\n",
    "        tlist, PSfld1 = ALL_powspec1[0], ALL_powspec1[1][:, :, am:bm, aa:bb]\n",
    "        del ALL_powspec1\n",
    "        ALL_powspec2 = np.load(powspec_tlist_file(*exp_params, 2000, maxSim))\n",
    "        tlist, PSfld2 = ALL_powspec2[0], ALL_powspec2[1][:, :, am:bm, aa:bb]\n",
    "        del ALL_powspec2\n",
    "        curve_fld = np.nanmean(np.nanmean(np.concatenate((PSfld1[:,0], PSfld2[:,0]), axis=0), axis=1), axis=0)\n",
    "        curve_mom = np.nanmean(np.nanmean(np.concatenate((PSfld1[:,1], PSfld2[:,1]), axis=0), axis=1), axis=0)\n",
    "        del PSfld1, PSfld2\n",
    "\n",
    "        ax[1].plot(klist[aa:bb]/np.sqrt(m2(lamb)), f_pred2_fld(klist[aa:bb], temp), ls='-', lw=1, color='k')#, label=lab0)\n",
    "\n",
    "        ax[1].plot(klist[aa:bb]/np.sqrt(m2(lamb)), curve_fld, ls='-', color=col)#, label=lab1)\n",
    "\n",
    "        ax[1].fill_between(klist[aa:bb]/np.sqrt(m2(lamb)), f_pred1_fld(klist[aa:bb], save_teff_from_mom_lower_bound[tmp]), \\\n",
    "                                                             f_pred1_fld(klist[aa:bb], save_teff_from_mom_upper_bound[tmp]), \\\n",
    "                                                             linewidth=0, color=col, alpha=0.2)\n",
    "        ax[1].plot(klist[aa:bb]/np.sqrt(m2(lamb)), f_pred1_fld(klist[aa:bb], save_teff_from_fld[tmp]), color='k', ls=':', lw=1)\n",
    "\n",
    "        norml   = 1./ phi0 / np.sqrt(2. * lenLat)\n",
    "        pofk0   = lambda ks, msq, te: norml * w2m_fld(ks, msq)**0.25 * np.sqrt(2./(np.exp(w2m_fld(ks, msq)**0.5/te) - 1.))\n",
    "        pofk    = lambda ks, msq, te: norml * w2m_fld(ks, msq)**0.25 * np.sqrt(2./(w2m_fld(ks, msq)**0.5/te))\n",
    "        f_pred1 = lambda ks, te: np.abs(pofk(ks, savemeff[tmp]**2., te))**2.\n",
    "        f_pred2 = lambda ks, te: np.abs(pofk0(ks, m2(lamb), te))**2.\n",
    "\n",
    "        ax[2].plot(klist[aa:bb]/np.sqrt(m2(lamb)), f_pred2(klist[aa:bb], temp), ls='-', lw=1, color='k')#, label=lab0)\n",
    "\n",
    "        ax[2].plot(klist[aa:bb]/np.sqrt(m2(lamb)), curve_mom, ls='-', color=col)#, label=lab1)\n",
    "\n",
    "        ax[2].fill_between(klist[aa:bb]/np.sqrt(m2(lamb)), f_pred1(klist[aa:bb], save_teff_from_mom_lower_bound[tmp]), \\\n",
    "                                                             f_pred1(klist[aa:bb], save_teff_from_mom_upper_bound[tmp]), \\\n",
    "                                                             linewidth=0, color=col, alpha=0.2)\n",
    "        ax[2].plot(klist[aa:bb]/np.sqrt(m2(lamb)), f_pred1(klist[aa:bb], save_teff_from_fld[tmp]), color='k', ls=':', lw=1)\n",
    "\n",
    "        \n",
    "        l0, = ax[3].plot(klist[aa:bb]/np.sqrt(m2(lamb)), f_pred2(klist[aa:bb], temp), ls='-', lw=1, color='k')#, label=lab0)\n",
    "\n",
    "        l1, = ax[3].plot(klist[aa:bb]/np.sqrt(m2(lamb)), curve_mom, ls='-', color=col)#, label=lab1)\n",
    "\n",
    "        l2  = ax[3].fill_between(klist[aa:bb]/np.sqrt(m2(lamb)), f_pred1(klist[aa:bb], save_teff_from_mom_lower_bound[tmp]), \\\n",
    "                                                                 f_pred1(klist[aa:bb], save_teff_from_mom_upper_bound[tmp]), \\\n",
    "                                 linewidth=0, color=col, alpha=0.2)\n",
    "        l22,= ax[3].plot(klist[aa:bb]/np.sqrt(m2(lamb)), f_pred1(klist[aa:bb], save_teff_from_fld[tmp]), color='k', ls=':', lw=1)\n",
    "\n",
    "        lab0 = r'${\\rm Initial \\; conditions \\;}$'\n",
    "        lab1 = r'${\\rm Late \\; time \\; data \\;}$'\n",
    "        lab2 = r'$T_{\\rm eff}/m=$'+r'${:.2f}^{{+{:.2f}}}_{{-{:.2f}}}$'.format(save_teff_from_fld[tmp]/np.sqrt(m2(lamb)), \\\n",
    "                                     (save_teff_from_mom_upper_bound[tmp] - save_teff_from_fld[tmp])/np.sqrt(m2(lamb)), \\\n",
    "                                     (save_teff_from_fld[tmp] - save_teff_from_mom_lower_bound[tmp])/np.sqrt(m2(lamb)))\n",
    "        leg = ax[3].legend([l0, l1, (l2, l22), ], [lab0, lab1, lab2], title=r'$T/m={:.1f}$'.format(temp/np.sqrt(m2(lamb))), \\\n",
    "                           ncol=1, frameon=False, handlelength=1, loc='center')\n",
    "\n",
    "        ax[0].set_ylabel(r'$\\omega_k^2/m^2$')\n",
    "        ax[1].set_ylabel(r'$\\left\\langle \\left|\\bar{\\varphi}_k(t)\\right|^2 \\right\\rangle $')\n",
    "        ax[2].set_ylabel(r'$\\left\\langle \\left|\\bar{\\Pi}_k(t)\\right|^2 \\right\\rangle $')\n",
    "\n",
    "        for ai, aa in enumerate(ax.flatten()[:3]):\n",
    "            aa.axvline(klist[indmax+1]/np.sqrt(m2(lamb)), color='k', ls='-', lw=0.5)\n",
    "            aa.grid(which='both', ls=':', color='lightgray', alpha=0.5)\n",
    "            aa.tick_params(direction='in', which='both', top=True, right=True)\n",
    "            if ai>0:\n",
    "                aa.ticklabel_format(axis='both', style='scientific', scilimits=[0.,0.])\n",
    "            aa.set_xscale('log')\n",
    "            #aa.set_ylabel(r'$\\left\\langle \\left|\\bar{\\Pi}_k(t)\\right|^2/\\left|\\bar{\\varphi}_k(t)\\right|^2 \\right\\rangle $')\n",
    "            aa.set_xlabel(r'$k/m$')\n",
    "            aa.xaxis.set_label_coords(0.5, -0.13)\n",
    "            aa.yaxis.set_label_coords(-0.1, 0.5)\n",
    "            aa.xaxis.label.set_color('k')        #setting up X-axis label color to yellow\n",
    "            aa.yaxis.label.set_color('k')          #setting up Y-axis label color to blue\n",
    "            aa.tick_params(axis='x', colors='k')    #setting up X-axis tick color to red\n",
    "            aa.tick_params(axis='y', colors='k')  #setting up Y-axis tick color to black\n",
    "            aa.spines['left'].set_color('k')        # setting up Y-axis tick color to red\n",
    "            aa.spines['right'].set_color('k')        # setting up Y-axis tick color to red\n",
    "            aa.spines['top'].set_color('k')         #setting up above X-axis tick color to red\n",
    "            aa.spines['bottom'].set_color('k')         #setting up above X-axis tick color to red\n",
    "\n",
    "        a = ax[0].get_yticks().tolist()[::2]\n",
    "        ax[0].set_yticks(a)\n",
    "        b = [r'${:.0f}$'.format(int(al)) for al in a]\n",
    "        ax[0].set_yticklabels(b)\n",
    "\n",
    "        ax[3].set_xlim(-1.1,-1.)\n",
    "        ax[3].set_ylim(-1.1,-1.)\n",
    "        ax[3].grid(which='both', ls=':', color='white')\n",
    "        ax[3].tick_params(direction='in', which='both', top=None, right=None, bottom=None, left=None)\n",
    "        ax[3].spines['top'].set_visible(False)\n",
    "        ax[3].spines['right'].set_visible(False)\n",
    "        ax[3].spines['bottom'].set_visible(False)\n",
    "        ax[3].spines['left'].set_visible(False)\n",
    "        ax[3].get_xaxis().set_ticks([])\n",
    "        ax[3].get_yaxis().set_ticks([])\n",
    "\n",
    "        plt.tight_layout()\n",
    "        plt.savefig('./plots/flat_bestfit_masses.pdf')\n",
    "        plt.show()\n"
   ]
  },
  {
   "cell_type": "code",
   "execution_count": 12,
   "metadata": {},
   "outputs": [
    {
     "ename": "IndexError",
     "evalue": "index 2 is out of bounds for axis 0 with size 2",
     "output_type": "error",
     "traceback": [
      "\u001b[0;31m---------------------------------------------------------------------------\u001b[0m",
      "\u001b[0;31mIndexError\u001b[0m                                Traceback (most recent call last)",
      "\u001b[0;32m/tmp/ipykernel_808668/1317078284.py\u001b[0m in \u001b[0;36m<module>\u001b[0;34m\u001b[0m\n\u001b[1;32m     12\u001b[0m     \u001b[0minstanton\u001b[0m \u001b[0;34m=\u001b[0m \u001b[0mnp\u001b[0m\u001b[0;34m.\u001b[0m\u001b[0mload\u001b[0m\u001b[0;34m(\u001b[0m\u001b[0mansol_instanton_file\u001b[0m\u001b[0;34m(\u001b[0m\u001b[0;34m*\u001b[0m\u001b[0mexp_params\u001b[0m\u001b[0;34m)\u001b[0m\u001b[0;34m)\u001b[0m\u001b[0;34m\u001b[0m\u001b[0;34m\u001b[0m\u001b[0m\n\u001b[1;32m     13\u001b[0m     \u001b[0mgradinst\u001b[0m  \u001b[0;34m=\u001b[0m \u001b[0;34m(\u001b[0m\u001b[0mnp\u001b[0m\u001b[0;34m.\u001b[0m\u001b[0mroll\u001b[0m\u001b[0;34m(\u001b[0m\u001b[0minstanton\u001b[0m\u001b[0;34m,\u001b[0m\u001b[0;34m-\u001b[0m\u001b[0;36m1\u001b[0m\u001b[0;34m)\u001b[0m \u001b[0;34m-\u001b[0m \u001b[0minstanton\u001b[0m\u001b[0;34m)\u001b[0m\u001b[0;34m/\u001b[0m\u001b[0mdx\u001b[0m\u001b[0;34m\u001b[0m\u001b[0;34m\u001b[0m\u001b[0m\n\u001b[0;32m---> 14\u001b[0;31m     \u001b[0mecrit\u001b[0m\u001b[0;34m[\u001b[0m\u001b[0mtmp\u001b[0m\u001b[0;34m]\u001b[0m \u001b[0;34m=\u001b[0m \u001b[0mdx\u001b[0m \u001b[0;34m*\u001b[0m \u001b[0mnp\u001b[0m\u001b[0;34m.\u001b[0m\u001b[0msum\u001b[0m\u001b[0;34m(\u001b[0m\u001b[0mV\u001b[0m\u001b[0;34m(\u001b[0m\u001b[0minstanton\u001b[0m\u001b[0;34m)\u001b[0m \u001b[0;34m+\u001b[0m \u001b[0;36m0.5\u001b[0m\u001b[0;34m*\u001b[0m\u001b[0mgradinst\u001b[0m\u001b[0;34m**\u001b[0m\u001b[0;36m2.\u001b[0m\u001b[0;34m,\u001b[0m \u001b[0maxis\u001b[0m\u001b[0;34m=\u001b[0m\u001b[0;36m0\u001b[0m\u001b[0;34m)\u001b[0m\u001b[0;34m\u001b[0m\u001b[0;34m\u001b[0m\u001b[0m\n\u001b[0m\u001b[1;32m     15\u001b[0m \u001b[0;34m\u001b[0m\u001b[0m\n\u001b[1;32m     16\u001b[0m \u001b[0;34m\u001b[0m\u001b[0m\n",
      "\u001b[0;31mIndexError\u001b[0m: index 2 is out of bounds for axis 0 with size 2"
     ]
    }
   ],
   "source": [
    "case = 'minus'\n",
    "general = get_general_model(case)\n",
    "tempList, massq, right_Vmax, V, dV, Vinv, nTimeMAX, minSim, maxSim = general\n",
    "maxSim = (1000 if tmp == 0 else 2000)\n",
    "\n",
    "ecrit = np.zeros((len(tmpList)))\n",
    "for ii, average_bubble in enumerate(reversed(bubbleList)):\n",
    "    temp, m2, sigmafld = get_model(*general, tmp)\n",
    "    exp_params = [nLat, m2, temp]\n",
    "    tmp = tmpList[ii]\n",
    "\n",
    "    instanton = np.load(ansol_instanton_file(*exp_params))\n",
    "    gradinst  = (np.roll(instanton,-1) - instanton)/dx\n",
    "    ecrit[tmp] = dx * np.sum(V(instanton) + 0.5*gradinst**2., axis=0)\n",
    "\n",
    "\n",
    "def exp_bounce(x, a, b):\n",
    "    return a * np.sqrt(b/x) * np.exp(-b/x)\n",
    "\n",
    "def second_exp_bounce(x, a, b):\n",
    "    Ecrit = ecrit[0]\n",
    "    Teff  = x*b\n",
    "    return a * np.sqrt(Ecrit/Teff) * np.exp(-Ecrit/Teff)\n",
    "\n",
    "def exp_prefactor(x, a):\n",
    "    Ecrit = ecrit[0]\n",
    "    return a * np.sqrt(Ecrit/x) * np.exp(-Ecrit/x)\n",
    "\n",
    "get_best_bounce        = lambda x, y: sco.curve_fit(exp_bounce, x, y)\n",
    "get_best_prefactor     = lambda x, y: sco.curve_fit(exp_prefactor, x, y)\n",
    "get_second_best_bounce = lambda x, y: sco.curve_fit(second_exp_bounce, x, y)\n"
   ]
  },
  {
   "cell_type": "code",
   "execution_count": 13,
   "metadata": {
    "tags": []
   },
   "outputs": [
    {
     "name": "stdout",
     "output_type": "stream",
     "text": [
      "1000\n",
      "2000\n"
     ]
    },
    {
     "ename": "IndexError",
     "evalue": "index 2 is out of bounds for axis 0 with size 2",
     "output_type": "error",
     "traceback": [
      "\u001b[0;31m---------------------------------------------------------------------------\u001b[0m",
      "\u001b[0;31mIndexError\u001b[0m                                Traceback (most recent call last)",
      "\u001b[0;32m/tmp/ipykernel_808668/1078233072.py\u001b[0m in \u001b[0;36m<module>\u001b[0;34m\u001b[0m\n\u001b[1;32m     13\u001b[0m \u001b[0;34m\u001b[0m\u001b[0m\n\u001b[1;32m     14\u001b[0m     \u001b[0mlabs\u001b[0m \u001b[0;34m=\u001b[0m \u001b[0;34mr'$T={:.2f}$'\u001b[0m\u001b[0;34m.\u001b[0m\u001b[0mformat\u001b[0m\u001b[0;34m(\u001b[0m\u001b[0mtemp\u001b[0m\u001b[0;34m)\u001b[0m\u001b[0;34m\u001b[0m\u001b[0;34m\u001b[0m\u001b[0m\n\u001b[0;32m---> 15\u001b[0;31m     \u001b[0max\u001b[0m\u001b[0;34m[\u001b[0m\u001b[0mtmp\u001b[0m\u001b[0;34m]\u001b[0m\u001b[0;34m.\u001b[0m\u001b[0mhist\u001b[0m\u001b[0;34m(\u001b[0m\u001b[0moutcomes\u001b[0m\u001b[0;34m,\u001b[0m \u001b[0mdensity\u001b[0m\u001b[0;34m=\u001b[0m\u001b[0;32mFalse\u001b[0m\u001b[0;34m,\u001b[0m \u001b[0mbins\u001b[0m\u001b[0;34m=\u001b[0m\u001b[0;36m3\u001b[0m\u001b[0;34m,\u001b[0m \u001b[0mrwidth\u001b[0m\u001b[0;34m=\u001b[0m\u001b[0;36m0.8\u001b[0m\u001b[0;34m,\u001b[0m \u001b[0mcolor\u001b[0m\u001b[0;34m=\u001b[0m\u001b[0mnext\u001b[0m\u001b[0;34m(\u001b[0m\u001b[0mcols\u001b[0m\u001b[0;34m)\u001b[0m\u001b[0;34m,\u001b[0m \u001b[0malpha\u001b[0m\u001b[0;34m=\u001b[0m\u001b[0;36m0.9\u001b[0m\u001b[0;34m,\u001b[0m \u001b[0mlinewidth\u001b[0m\u001b[0;34m=\u001b[0m\u001b[0;36m0.5\u001b[0m\u001b[0;34m,\u001b[0m \u001b[0malign\u001b[0m\u001b[0;34m=\u001b[0m\u001b[0;34m'mid'\u001b[0m\u001b[0;34m)\u001b[0m\u001b[0;34m\u001b[0m\u001b[0;34m\u001b[0m\u001b[0m\n\u001b[0m\u001b[1;32m     16\u001b[0m \u001b[0;34m\u001b[0m\u001b[0m\n\u001b[1;32m     17\u001b[0m     \u001b[0ma\u001b[0m \u001b[0;34m=\u001b[0m \u001b[0;34m[\u001b[0m\u001b[0;36m0.34\u001b[0m\u001b[0;34m,\u001b[0m \u001b[0;36m1.\u001b[0m\u001b[0;34m,\u001b[0m \u001b[0;36m1.66\u001b[0m\u001b[0;34m]\u001b[0m\u001b[0;34m\u001b[0m\u001b[0;34m\u001b[0m\u001b[0m\n",
      "\u001b[0;31mIndexError\u001b[0m: index 2 is out of bounds for axis 0 with size 2"
     ]
    },
    {
     "data": {
      "image/png": "[encoded data removed]",
      "text/plain": [
       "<Figure size 700x250 with 2 Axes>"
      ]
     },
     "metadata": {},
     "output_type": "display_data"
    }
   ],
   "source": [
    "# Classify decays\n",
    "fig, ax = plt.subplots(1, 2, figsize = (7,2.5), sharey=True)\n",
    "cols=cycle(allcolors)\n",
    "for tmp in tmpList:\n",
    "    temp, m2, sigmafld = get_model(*general, tmp)\n",
    "    maxSim = (1000 if tmp == 0 else 2000)\n",
    "    exp_params = [nLat, m2, temp]\n",
    "\n",
    "    decayed_sims = np.load(sims_decayed_file(*exp_params, minSim, maxSim, nTimeMAX))\n",
    "    decay_times = np.load(decay_times_file(*exp_params, minSim, maxSim, nTimeMAX))\n",
    "\n",
    "    outcomes = decayed_sims[:,1]; print(len(outcomes))\n",
    "\n",
    "    labs = r'$T={:.2f}$'.format(temp)\n",
    "    ax[tmp].hist(outcomes, density=False, bins=3, rwidth=0.8, color=next(cols), alpha=0.9, linewidth=0.5, align='mid')\n",
    "\n",
    "    a = [0.34, 1., 1.66]\n",
    "    b = [r'${\\rm Left}$', r'${\\rm Right}$', r'${\\rm Not \\ Decayed}$']\n",
    "    ax[tmp].set_xticks(a)\n",
    "    ax[tmp].set_xticklabels(b)\n",
    "\n",
    "    ax[0].set_ylabel(r'$\\rm N \\; bubbles$')\n",
    "    ax[tmp].set_title(labs)\n",
    "beautify(ax, times=-70)\n",
    "plt.tight_layout()\n",
    "plt.savefig('./plots/vacuum_choice.pdf')\n",
    "plt.show()\n"
   ]
  },
  {
   "cell_type": "code",
   "execution_count": 21,
   "metadata": {
    "tags": []
   },
   "outputs": [
    {
     "name": "stderr",
     "output_type": "stream",
     "text": [
      "/cm/shared/apps/python/python37/lib/python3.7/site-packages/ipykernel_launcher.py:26: RuntimeWarning: divide by zero encountered in log\n",
      "/cm/shared/apps/python/python37/lib/python3.7/site-packages/ipykernel_launcher.py:27: RuntimeWarning: divide by zero encountered in log\n"
     ]
    },
    {
     "data": {
      "image/png": "[encoded data removed]",
      "text/plain": [
       "<Figure size 400x260 with 1 Axes>"
      ]
     },
     "metadata": {},
     "output_type": "display_data"
    }
   ],
   "source": [
    "fig, ax = plt.subplots(1, 1, figsize = (4,2.6))\n",
    "gammas1 = np.zeros((len(tempList), 2))\n",
    "cls = cycle(allcolors[:len(tempList)])\n",
    "\n",
    "for tmp in [2]:\n",
    "    temp, m2, sigmafld = get_model(*general, tmp)\n",
    "    exp_params = [nLat, m2, temp]\n",
    "    maxSim = (1000 if tmp == 0 else 2000)\n",
    "\n",
    "    decayed_sims = np.load(sims_decayed_file(*exp_params, minSim, maxSim, nTimeMAX))\n",
    "    decay_times = np.load(decay_times_file(*exp_params, minSim, maxSim, nTimeMAX))\n",
    "    ndcys = len(decay_times)\n",
    "\n",
    "#    coords_decayed = (decayed_sims[:,1]!=2)\n",
    "#    times_decayed_list = decay_times[coords_decayed]\n",
    "#    times_undecayed_list = decay_times[~coords_decayed]\n",
    "#    print(ndcys, len(times_decayed_list), len(times_undecayed_list), len(times_decayed_list)+len(times_undecayed_list))\n",
    "\n",
    "#    lmmax = 7500/dx\n",
    "\n",
    "\n",
    "    decay_times = np.sort(decay_times[:,1])\n",
    " #   decay_times = decay_times[decay_times < lmmax]\n",
    "\n",
    "    col = next(cls)\n",
    "    ax.plot(decay_times*dx, np.log(survive_prob(decay_times, ndcys)), color=col, ls='-', label=r'$T={:.2f}$'.format(temp))\n",
    "    ax.plot(decay_times*dx, np.log(f_surv(decay_times, ndcys)), color='k', ls=':')\n",
    "\n",
    "#ax.set_xlim(0, lmmax*dx)\n",
    "#ax.axvline(7500, ls=':', color='darkgray')\n",
    "#ax.set_ylim(-0.31, 0.01)\n",
    "ax.set_ylabel(r'$\\ln P_{\\rm surv}$')\n",
    "ax.set_xlabel(r'$t$')\n",
    "\n",
    "beautify(ax, loc=3, times=-120)\n",
    "ax.ticklabel_format(axis='x', style='scientific', scilimits=[-1.,0.])\n",
    "fig.tight_layout()\n",
    "plt.savefig('./plots/decay_rate_and_surv_fraction.pdf')\n",
    "plt.show()"
   ]
  },
  {
   "cell_type": "code",
   "execution_count": 22,
   "metadata": {
    "tags": []
   },
   "outputs": [],
   "source": [
    "Times = np.array([dx * decay_times])\n",
    "\n",
    "#Psurv = np.zeros((1, len(decay_times)))\n",
    "#Psurv[0] = survive_prob(decay_times, ndcys)\n",
    "M = 1\n",
    "#t_l = np.array([np.linspace(0,nTimeMAX,ndcys)])\n",
    "#t_l = Times\n",
    "TempList = np.array([temp])\n",
    "nTimeMAX = 262144"
   ]
  },
  {
   "cell_type": "code",
   "execution_count": 23,
   "metadata": {
    "tags": []
   },
   "outputs": [],
   "source": [
    "t_points = 10000\n",
    "t_l = [None]*M\n",
    "Psurv = np.zeros((M,t_points))\n",
    "for j in range(M):\n",
    "    t_l[j] = np.linspace(0, nTimeMAX*dx - 0.1, t_points)\n",
    "    for i in range(0,len(Times[j])):\n",
    "        if Times[j][i] == 0:\n",
    "            Times[j][i] = TimeOfSimList[j]\n",
    "    Times[j].sort()\n",
    "for j in range(M):\n",
    "    for i in range(0,t_points):\n",
    "        Psurv[j,i] = (Times[j]>t_l[j][i]).sum()/len(Times[j])\n"
   ]
  },
  {
   "cell_type": "code",
   "execution_count": 24,
   "metadata": {
    "tags": []
   },
   "outputs": [],
   "source": [
    "from scipy.optimize import curve_fit\n"
   ]
  },
  {
   "cell_type": "code",
   "execution_count": 25,
   "metadata": {},
   "outputs": [
    {
     "name": "stdout",
     "output_type": "stream",
     "text": [
      "0.048828125\n"
     ]
    }
   ],
   "source": [
    "L = lenLat\n",
    "N = nLat\n",
    "DT = dx\n",
    "print(dx)"
   ]
  },
  {
   "cell_type": "code",
   "execution_count": 29,
   "metadata": {},
   "outputs": [
    {
     "name": "stdout",
     "output_type": "stream",
     "text": [
      "0.15 -0.0 0.0375 10000\n"
     ]
    },
    {
     "name": "stderr",
     "output_type": "stream",
     "text": [
      "/cm/shared/apps/python/python37/lib/python3.7/site-packages/ipykernel_launcher.py:3: RuntimeWarning: divide by zero encountered in log\n",
      "  This is separate from the ipykernel package so we can avoid doing imports until\n"
     ]
    },
    {
     "ename": "IndexError",
     "evalue": "index 0 is out of bounds for axis 0 with size 0",
     "output_type": "error",
     "traceback": [
      "\u001b[0;31m---------------------------------------------------------------------------\u001b[0m",
      "\u001b[0;31mIndexError\u001b[0m                                Traceback (most recent call last)",
      "\u001b[0;32m/tmp/ipykernel_808668/1706133666.py\u001b[0m in \u001b[0;36m<module>\u001b[0;34m\u001b[0m\n\u001b[1;32m     33\u001b[0m         \u001b[0mind\u001b[0m \u001b[0;34m=\u001b[0m \u001b[0mnp\u001b[0m\u001b[0;34m.\u001b[0m\u001b[0mwhere\u001b[0m\u001b[0;34m(\u001b[0m\u001b[0;34m(\u001b[0m\u001b[0;34m-\u001b[0m\u001b[0mlog_Psurv\u001b[0m\u001b[0;34m[\u001b[0m\u001b[0mi\u001b[0m\u001b[0;34m]\u001b[0m \u001b[0;34m>\u001b[0m \u001b[0mlog_P_min\u001b[0m \u001b[0;34m+\u001b[0m \u001b[0mj\u001b[0m\u001b[0;34m*\u001b[0m\u001b[0mDelta_P\u001b[0m\u001b[0;34m)\u001b[0m \u001b[0;34m&\u001b[0m \u001b[0;34m(\u001b[0m\u001b[0;34m-\u001b[0m\u001b[0mlog_Psurv\u001b[0m\u001b[0;34m[\u001b[0m\u001b[0mi\u001b[0m\u001b[0;34m]\u001b[0m \u001b[0;34m<\u001b[0m \u001b[0mlog_P_min\u001b[0m \u001b[0;34m+\u001b[0m \u001b[0;34m(\u001b[0m\u001b[0mj\u001b[0m\u001b[0;34m+\u001b[0m\u001b[0;36m1.\u001b[0m\u001b[0;34m)\u001b[0m\u001b[0;34m*\u001b[0m\u001b[0mDelta_P\u001b[0m\u001b[0;34m)\u001b[0m\u001b[0;34m)\u001b[0m\u001b[0;34m[\u001b[0m\u001b[0;36m0\u001b[0m\u001b[0;34m]\u001b[0m\u001b[0;34m\u001b[0m\u001b[0;34m\u001b[0m\u001b[0m\n\u001b[1;32m     34\u001b[0m \u001b[0;34m\u001b[0m\u001b[0m\n\u001b[0;32m---> 35\u001b[0;31m         \u001b[0mnum\u001b[0m \u001b[0;34m=\u001b[0m \u001b[0;34m(\u001b[0m \u001b[0;34m(\u001b[0m\u001b[0mTimes\u001b[0m\u001b[0;34m[\u001b[0m\u001b[0mi\u001b[0m\u001b[0;34m]\u001b[0m \u001b[0;34m>\u001b[0m \u001b[0mt_l\u001b[0m\u001b[0;34m[\u001b[0m\u001b[0mi\u001b[0m\u001b[0;34m]\u001b[0m\u001b[0;34m[\u001b[0m\u001b[0mind\u001b[0m\u001b[0;34m[\u001b[0m\u001b[0;36m0\u001b[0m\u001b[0;34m]\u001b[0m\u001b[0;34m]\u001b[0m\u001b[0;34m)\u001b[0m \u001b[0;34m&\u001b[0m \u001b[0;34m(\u001b[0m\u001b[0mTimes\u001b[0m\u001b[0;34m[\u001b[0m\u001b[0mi\u001b[0m\u001b[0;34m]\u001b[0m \u001b[0;34m<\u001b[0m \u001b[0mt_l\u001b[0m\u001b[0;34m[\u001b[0m\u001b[0mi\u001b[0m\u001b[0;34m]\u001b[0m\u001b[0;34m[\u001b[0m\u001b[0mind\u001b[0m\u001b[0;34m[\u001b[0m\u001b[0;34m-\u001b[0m\u001b[0;36m1\u001b[0m\u001b[0;34m]\u001b[0m\u001b[0;34m]\u001b[0m\u001b[0;34m)\u001b[0m \u001b[0;34m)\u001b[0m\u001b[0;34m.\u001b[0m\u001b[0msum\u001b[0m\u001b[0;34m(\u001b[0m\u001b[0;34m)\u001b[0m\u001b[0;34m\u001b[0m\u001b[0;34m\u001b[0m\u001b[0m\n\u001b[0m\u001b[1;32m     36\u001b[0m         \u001b[0mnum_i\u001b[0m \u001b[0;34m+=\u001b[0m \u001b[0;34m[\u001b[0m\u001b[0mnum\u001b[0m\u001b[0;34m]\u001b[0m\u001b[0;34m\u001b[0m\u001b[0;34m\u001b[0m\u001b[0m\n\u001b[1;32m     37\u001b[0m \u001b[0;34m\u001b[0m\u001b[0m\n",
      "\u001b[0;31mIndexError\u001b[0m: index 0 is out of bounds for axis 0 with size 0"
     ]
    }
   ],
   "source": [
    "\"\"\" Split into vertical segments, approximate each segment by a line \"\"\"\n",
    "\n",
    "log_Psurv = np.log(Psurv)\n",
    "\n",
    "Offset_t = 0                         # Exclude region t < Offset_t\n",
    "log_P_threshold = 0.15               # Max decay fraction\n",
    "N_segments = 4\n",
    "MAX_t = 2000#nTimeMAX*dx-1; print(MAX_t)\n",
    "\n",
    "Gamma_t_list        = [None]*M\n",
    "Gamma_t_errors_list = [None]*M\n",
    "time_points         = [None]*M\n",
    "time_end_points     = [None]*M\n",
    "num_of_events       = [None]*M\n",
    "init_amps           = [None]*M\n",
    "\n",
    "for i in range(M):\n",
    "    b        = []\n",
    "    b_s      = []\n",
    "    amp      = []\n",
    "    t_middle = []\n",
    "    t_endpts = []\n",
    "    num_i    = []\n",
    "\n",
    "    log_P_min = -log_Psurv[i][t_l[i]>Offset_t][0]\n",
    "   # log_P_max = -log_Psurv[i][t_l[i]<=MAX_t][-1]\n",
    "    log_P_max = log_P_threshold\n",
    "\n",
    "    Delta_P = (log_P_max - log_P_min)/N_segments\n",
    "    print(log_P_max, log_P_min, Delta_P, len(log_Psurv[i]))\n",
    "\n",
    "    for j in range(N_segments):\n",
    "        ind = np.where((-log_Psurv[i] > log_P_min + j*Delta_P) & (-log_Psurv[i] < log_P_min + (j+1.)*Delta_P))[0]\n",
    "\n",
    "        num = ( (Times[i] > t_l[i][ind[0]]) & (Times[i] < t_l[i][ind[-1]]) ).sum()\n",
    "        num_i += [num]\n",
    "\n",
    "        y1 = log_Psurv[i,ind[0]]\n",
    "        y2 = log_Psurv[i,ind[-1]]\n",
    "        t1 = t_l[i][ind[0]]\n",
    "        t2 = t_l[i][ind[-1]]\n",
    "        slope = -(y2-y1)/(t2-t1)\n",
    "\n",
    "        t_middle += [(t1+t2)/2.]\n",
    "        t_endpts += [[int(t1 / dx), int(t2 / dx)]]\n",
    "        b   += [slope]\n",
    "        b_s += [slope/np.sqrt(num)]\n",
    "        amp += [[log_Psurv[i,ind[0]], log_Psurv[i,ind[-1]]]]\n",
    "\n",
    "    num_of_events[i]       = np.array(num_i)\n",
    "    Gamma_t_list[i]        = np.array(b)\n",
    "    Gamma_t_errors_list[i] = np.array(b_s)\n",
    "    time_points[i]         = np.array(t_middle)\n",
    "    time_end_points[i]     = np.array(t_endpts)\n",
    "    init_amps[i]           = np.array(amp)"
   ]
  },
  {
   "cell_type": "code",
   "execution_count": 30,
   "metadata": {
    "tags": []
   },
   "outputs": [
    {
     "name": "stdout",
     "output_type": "stream",
     "text": [
      "1000 283 717 1000\n",
      "2000 2000 0 2000\n"
     ]
    },
    {
     "name": "stderr",
     "output_type": "stream",
     "text": [
      "/cm/shared/apps/python/python37/lib/python3.7/site-packages/ipykernel_launcher.py:26: RuntimeWarning: divide by zero encountered in log\n",
      "/cm/shared/apps/python/python37/lib/python3.7/site-packages/ipykernel_launcher.py:27: RuntimeWarning: divide by zero encountered in log\n"
     ]
    },
    {
     "ename": "TypeError",
     "evalue": "object of type 'NoneType' has no len()",
     "output_type": "error",
     "traceback": [
      "\u001b[0;31m---------------------------------------------------------------------------\u001b[0m",
      "\u001b[0;31mTypeError\u001b[0m                                 Traceback (most recent call last)",
      "\u001b[0;32m/tmp/ipykernel_808668/3188666924.py\u001b[0m in \u001b[0;36m<module>\u001b[0;34m\u001b[0m\n\u001b[1;32m     27\u001b[0m     \u001b[0max\u001b[0m\u001b[0;34m.\u001b[0m\u001b[0mplot\u001b[0m\u001b[0;34m(\u001b[0m\u001b[0mdecay_times\u001b[0m\u001b[0;34m*\u001b[0m\u001b[0mdx\u001b[0m\u001b[0;34m,\u001b[0m \u001b[0mnp\u001b[0m\u001b[0;34m.\u001b[0m\u001b[0mlog\u001b[0m\u001b[0;34m(\u001b[0m\u001b[0mf_surv\u001b[0m\u001b[0;34m(\u001b[0m\u001b[0mdecay_times\u001b[0m\u001b[0;34m,\u001b[0m \u001b[0mndcys\u001b[0m\u001b[0;34m)\u001b[0m\u001b[0;34m)\u001b[0m\u001b[0;34m,\u001b[0m \u001b[0mcolor\u001b[0m\u001b[0;34m=\u001b[0m\u001b[0;34m'k'\u001b[0m\u001b[0;34m,\u001b[0m \u001b[0mls\u001b[0m\u001b[0;34m=\u001b[0m\u001b[0;34m':'\u001b[0m\u001b[0;34m)\u001b[0m\u001b[0;34m\u001b[0m\u001b[0;34m\u001b[0m\u001b[0m\n\u001b[1;32m     28\u001b[0m \u001b[0;34m\u001b[0m\u001b[0m\n\u001b[0;32m---> 29\u001b[0;31m \u001b[0;32mfor\u001b[0m \u001b[0mii\u001b[0m \u001b[0;32min\u001b[0m \u001b[0mrange\u001b[0m\u001b[0;34m(\u001b[0m\u001b[0mlen\u001b[0m\u001b[0;34m(\u001b[0m\u001b[0mtime_points\u001b[0m\u001b[0;34m[\u001b[0m\u001b[0;36m0\u001b[0m\u001b[0;34m]\u001b[0m\u001b[0;34m)\u001b[0m\u001b[0;34m)\u001b[0m\u001b[0;34m:\u001b[0m\u001b[0;34m\u001b[0m\u001b[0;34m\u001b[0m\u001b[0m\n\u001b[0m\u001b[1;32m     30\u001b[0m     \u001b[0mplt\u001b[0m\u001b[0;34m.\u001b[0m\u001b[0maxvline\u001b[0m\u001b[0;34m(\u001b[0m\u001b[0mdx\u001b[0m \u001b[0;34m*\u001b[0m \u001b[0mtime_end_points\u001b[0m\u001b[0;34m[\u001b[0m\u001b[0;36m0\u001b[0m\u001b[0;34m]\u001b[0m\u001b[0;34m[\u001b[0m\u001b[0mii\u001b[0m\u001b[0;34m]\u001b[0m\u001b[0;34m[\u001b[0m\u001b[0;36m0\u001b[0m\u001b[0;34m]\u001b[0m\u001b[0;34m,\u001b[0m \u001b[0mls\u001b[0m\u001b[0;34m=\u001b[0m\u001b[0;34m':'\u001b[0m\u001b[0;34m,\u001b[0m \u001b[0mcolor\u001b[0m\u001b[0;34m=\u001b[0m\u001b[0;34m'darkgray'\u001b[0m\u001b[0;34m)\u001b[0m\u001b[0;34m\u001b[0m\u001b[0;34m\u001b[0m\u001b[0m\n\u001b[1;32m     31\u001b[0m     \u001b[0mplt\u001b[0m\u001b[0;34m.\u001b[0m\u001b[0maxvline\u001b[0m\u001b[0;34m(\u001b[0m\u001b[0mdx\u001b[0m \u001b[0;34m*\u001b[0m \u001b[0mtime_end_points\u001b[0m\u001b[0;34m[\u001b[0m\u001b[0;36m0\u001b[0m\u001b[0;34m]\u001b[0m\u001b[0;34m[\u001b[0m\u001b[0mii\u001b[0m\u001b[0;34m]\u001b[0m\u001b[0;34m[\u001b[0m\u001b[0;36m1\u001b[0m\u001b[0;34m]\u001b[0m\u001b[0;34m,\u001b[0m \u001b[0mls\u001b[0m\u001b[0;34m=\u001b[0m\u001b[0;34m':'\u001b[0m\u001b[0;34m,\u001b[0m \u001b[0mcolor\u001b[0m\u001b[0;34m=\u001b[0m\u001b[0;34m'darkgray'\u001b[0m\u001b[0;34m)\u001b[0m\u001b[0;34m\u001b[0m\u001b[0;34m\u001b[0m\u001b[0m\n",
      "\u001b[0;31mTypeError\u001b[0m: object of type 'NoneType' has no len()"
     ]
    },
    {
     "data": {
      "image/png": "[encoded data removed]",
      "text/plain": [
       "<Figure size 500x400 with 1 Axes>"
      ]
     },
     "metadata": {},
     "output_type": "display_data"
    }
   ],
   "source": [
    "fig, ax = plt.subplots(1, 1, figsize = (5,4))\n",
    "gammas1 = np.zeros((len(tempList), 2))\n",
    "cls = cycle(allcolors[:len(tempList)])\n",
    "\n",
    "for tmp in tmpList:\n",
    "    temp, m2, sigmafld = get_model(*general, tmp)\n",
    "    exp_params = [nLat, m2, temp]\n",
    "    maxSim = (1000 if tmp == 0 else 2000)\n",
    "\n",
    "    decayed_sims = np.load(sims_decayed_file(*exp_params, minSim, maxSim, nTimeMAX))\n",
    "    decay_times = np.load(decay_times_file(*exp_params, minSim, maxSim, nTimeMAX))\n",
    "    ndcys = len(decay_times)\n",
    "\n",
    "    coords_decayed = (decayed_sims[:,1]!=2)\n",
    "    times_decayed_list = decay_times[coords_decayed]\n",
    "    times_undecayed_list = decay_times[~coords_decayed]\n",
    "    print(ndcys, len(times_decayed_list), len(times_undecayed_list), len(times_decayed_list)+len(times_undecayed_list))\n",
    "\n",
    "    lmmax = 7500/dx\n",
    "   # lmmax = nTimeMAX#7500/dx\n",
    "\n",
    "    decay_times = np.sort(times_decayed_list[:,1])\n",
    "    decay_times = decay_times[decay_times < lmmax]\n",
    "\n",
    "    col = next(cls)\n",
    "    ax.plot(decay_times*dx, np.log(survive_prob(decay_times, ndcys)), color=col, ls='-', label=r'$T={:.2f}$'.format(temp))\n",
    "    ax.plot(decay_times*dx, np.log(f_surv(decay_times, ndcys)), color='k', ls=':')\n",
    "\n",
    "for ii in range(len(time_points[0])):\n",
    "    plt.axvline(dx * time_end_points[0][ii][0], ls=':', color='darkgray')\n",
    "    plt.axvline(dx * time_end_points[0][ii][1], ls=':', color='darkgray')\n",
    "\n",
    "    print(time_end_points[0][ii][0])\n",
    "\n",
    "   # amp = np.log(survive_prob(decay_times, ndcys))[(decay_times==time_end_points[0][ii][0])][0]\n",
    "   # xs  = dx * np.arange(time_end_points[0][ii][0], time_end_points[0][ii][1], 10)\n",
    "   # xs0 = xs - dx * time_end_points[0][ii][0]\n",
    "\n",
    "   # plt.plot(xs, amp - Gamma_t_list[0][ii] * xs0, ls=':')\n",
    "\n",
    "#ax.axvline(7500, ls=':', color='darkgray')\n",
    "#ax.set_ylim(-0.31, 0.01)\n",
    "ax.set_ylabel(r'$\\ln P_{\\rm surv}$')\n",
    "ax.set_xlabel(r'$t$')\n",
    "\n",
    "beautify(ax, loc=3, times=-120)\n",
    "ax.ticklabel_format(axis='x', style='scientific', scilimits=[-1.,0.])\n",
    "fig.tight_layout()\n",
    "plt.savefig('./plots/decay_rate_and_surv_fraction.pdf')\n",
    "plt.show()"
   ]
  },
  {
   "cell_type": "code",
   "execution_count": 31,
   "metadata": {},
   "outputs": [
    {
     "ename": "TypeError",
     "evalue": "'NoneType' object is not subscriptable",
     "output_type": "error",
     "traceback": [
      "\u001b[0;31m---------------------------------------------------------------------------\u001b[0m",
      "\u001b[0;31mTypeError\u001b[0m                                 Traceback (most recent call last)",
      "\u001b[0;32m/tmp/ipykernel_808668/3399147203.py\u001b[0m in \u001b[0;36m<module>\u001b[0;34m\u001b[0m\n\u001b[1;32m      8\u001b[0m \u001b[0;34m\u001b[0m\u001b[0m\n\u001b[1;32m      9\u001b[0m \u001b[0;32mfor\u001b[0m \u001b[0mi\u001b[0m \u001b[0;32min\u001b[0m \u001b[0mrange\u001b[0m\u001b[0;34m(\u001b[0m\u001b[0mM\u001b[0m\u001b[0;34m)\u001b[0m\u001b[0;34m:\u001b[0m\u001b[0;34m\u001b[0m\u001b[0;34m\u001b[0m\u001b[0m\n\u001b[0;32m---> 10\u001b[0;31m     \u001b[0mparams\u001b[0m\u001b[0;34m,\u001b[0m \u001b[0mcov\u001b[0m \u001b[0;34m=\u001b[0m \u001b[0mcurve_fit\u001b[0m\u001b[0;34m(\u001b[0m\u001b[0mlog_Gamma_fit\u001b[0m\u001b[0;34m,\u001b[0m \u001b[0mtime_points\u001b[0m\u001b[0;34m[\u001b[0m\u001b[0mi\u001b[0m\u001b[0;34m]\u001b[0m\u001b[0;34m[\u001b[0m\u001b[0;36m1\u001b[0m\u001b[0;34m:\u001b[0m\u001b[0;34m]\u001b[0m\u001b[0;34m,\u001b[0m \u001b[0mnp\u001b[0m\u001b[0;34m.\u001b[0m\u001b[0mlog\u001b[0m\u001b[0;34m(\u001b[0m\u001b[0mGamma_t_list\u001b[0m\u001b[0;34m[\u001b[0m\u001b[0mi\u001b[0m\u001b[0;34m]\u001b[0m\u001b[0;34m[\u001b[0m\u001b[0;36m1\u001b[0m\u001b[0;34m:\u001b[0m\u001b[0;34m]\u001b[0m\u001b[0;34m)\u001b[0m\u001b[0;34m,\u001b[0m \u001b[0msigma\u001b[0m\u001b[0;34m=\u001b[0m\u001b[0mGamma_t_errors_list\u001b[0m\u001b[0;34m[\u001b[0m\u001b[0mi\u001b[0m\u001b[0;34m]\u001b[0m\u001b[0;34m[\u001b[0m\u001b[0;36m1\u001b[0m\u001b[0;34m:\u001b[0m\u001b[0;34m]\u001b[0m\u001b[0;34m/\u001b[0m\u001b[0mGamma_t_list\u001b[0m\u001b[0;34m[\u001b[0m\u001b[0mi\u001b[0m\u001b[0;34m]\u001b[0m\u001b[0;34m[\u001b[0m\u001b[0;36m1\u001b[0m\u001b[0;34m:\u001b[0m\u001b[0;34m]\u001b[0m\u001b[0;34m,\u001b[0m \u001b[0mabsolute_sigma\u001b[0m\u001b[0;34m=\u001b[0m\u001b[0;32mTrue\u001b[0m\u001b[0;34m)\u001b[0m\u001b[0;34m\u001b[0m\u001b[0;34m\u001b[0m\u001b[0m\n\u001b[0m\u001b[1;32m     11\u001b[0m     \u001b[0mprint\u001b[0m\u001b[0;34m(\u001b[0m\u001b[0mparams\u001b[0m\u001b[0;34m)\u001b[0m\u001b[0;34m\u001b[0m\u001b[0;34m\u001b[0m\u001b[0m\n\u001b[1;32m     12\u001b[0m     \u001b[0mprint\u001b[0m\u001b[0;34m(\u001b[0m\u001b[0mcov\u001b[0m\u001b[0;34m)\u001b[0m\u001b[0;34m\u001b[0m\u001b[0;34m\u001b[0m\u001b[0m\n",
      "\u001b[0;31mTypeError\u001b[0m: 'NoneType' object is not subscriptable"
     ]
    }
   ],
   "source": [
    "\"\"\" Extrapolate the tilt of the lines to t=0 \"\"\"\n",
    "\n",
    "def log_Gamma_fit(t, a, b):\n",
    "    return a - b*t\n",
    "\n",
    "\n",
    "log_Gamma_at_zero, slope, log_Gamma_at_zero_error = np.zeros((3, M))\n",
    "\n",
    "for i in range(M):\n",
    "    params, cov = curve_fit(log_Gamma_fit, time_points[i][1:], np.log(Gamma_t_list[i][1:]), sigma=Gamma_t_errors_list[i][1:]/Gamma_t_list[i][1:], absolute_sigma=True)\n",
    "    print(params)\n",
    "    print(cov)\n",
    "    log_Gamma_at_zero[i] = params[0]\n",
    "    slope[i] = params[1]\n",
    "    log_Gamma_at_zero_error[i] = np.sqrt(cov[0,0])\n"
   ]
  },
  {
   "cell_type": "code",
   "execution_count": 32,
   "metadata": {},
   "outputs": [
    {
     "name": "stdout",
     "output_type": "stream",
     "text": [
      "5.0\n",
      "energy:\n",
      "1.0 inf nan\n"
     ]
    },
    {
     "name": "stderr",
     "output_type": "stream",
     "text": [
      "/home/dpirvu/.local/lib/python3.7/site-packages/scipy/optimize/minpack.py:756: RuntimeWarning: divide by zero encountered in true_divide\n",
      "  transform = 1.0 / sigma\n",
      "/home/dpirvu/.local/lib/python3.7/site-packages/scipy/optimize/minpack.py:488: RuntimeWarning: invalid value encountered in multiply\n",
      "  return transform * (func(xdata, *params) - ydata)\n",
      "/home/dpirvu/.local/lib/python3.7/site-packages/scipy/optimize/minpack.py:834: OptimizeWarning: Covariance of the parameters could not be estimated\n",
      "  category=OptimizeWarning)\n",
      "/cm/shared/apps/python/python37/lib/python3.7/site-packages/ipykernel_launcher.py:21: RuntimeWarning: invalid value encountered in double_scalars\n"
     ]
    }
   ],
   "source": [
    "\"\"\" Fit: sphaleron energy \"\"\"\n",
    "\n",
    "rf = 0\n",
    "T0_inv=1./TempList[rf]\n",
    "print(T0_inv)\n",
    "\n",
    "def log_Gamma_th(T_inv, Es):\n",
    "    return - Es * (T_inv - T0_inv)\n",
    "\n",
    "param, cov = curve_fit(log_Gamma_th, 1./TempList, log_Gamma_at_zero - log_Gamma_at_zero[rf], \\\n",
    "                       sigma = np.sqrt(log_Gamma_at_zero_error**2. + log_Gamma_at_zero_error[rf]**2.)/2., absolute_sigma=True)\n",
    "\n",
    "Es = param[0]\n",
    "Es_error = np.sqrt(cov[0,0])\n",
    "\n",
    "chi2 = 0\n",
    "for i in range(M):\n",
    "    a = log_Gamma_th(TempList[i]**(-1),Es)\n",
    "    b = log_Gamma_at_zero[i]-log_Gamma_at_zero[rf]\n",
    "    c = np.sqrt(log_Gamma_at_zero_error[i]**2+log_Gamma_at_zero_error[rf]**2)/2\n",
    "    chi2 += ((a-b)/c)**2\n",
    "chi2 /= M\n",
    "\n",
    "print('energy:')\n",
    "print(Es, Es_error, chi2)"
   ]
  },
  {
   "cell_type": "code",
   "execution_count": 33,
   "metadata": {},
   "outputs": [
    {
     "name": "stdout",
     "output_type": "stream",
     "text": [
      "log of Prefactor:\n",
      "-3.605170185988092 inf inf\n",
      "ratio:\n",
      "72.37212624207542\n"
     ]
    },
    {
     "name": "stderr",
     "output_type": "stream",
     "text": [
      "/cm/shared/apps/python/python37/lib/python3.7/site-packages/ipykernel_launcher.py:20: RuntimeWarning: divide by zero encountered in double_scalars\n"
     ]
    }
   ],
   "source": [
    "\"\"\" Fit: prefactor \"\"\"\n",
    "\n",
    "Es_th = 4./3.\n",
    "T_middle = 0.5*(TempList[0] + TempList[-1])\n",
    "log_A_th = np.log(6. * L / np.pi * np.sqrt(Es_th / 2. / np.pi / T_middle))\n",
    "\n",
    "def log_Gamma_th2(T_inv, log_A):\n",
    "    return log_A - Es_th*T_inv\n",
    "\n",
    "param, cov = curve_fit(log_Gamma_th2, np.array(TempList)**(-1), log_Gamma_at_zero, sigma=log_Gamma_at_zero_error, absolute_sigma=True)\n",
    "\n",
    "log_A = param[0]\n",
    "log_A_error = np.sqrt(cov[0,0])\n",
    "\n",
    "chi2 = 0.\n",
    "for i in range(M):\n",
    "    a = log_Gamma_th2(TempList[i]**(-1),log_A)\n",
    "    b = log_Gamma_at_zero[i]\n",
    "    c = log_Gamma_at_zero_error[i]\n",
    "    chi2 += ((a-b)/c)**2\n",
    "chi2 /= M\n",
    "\n",
    "print('log of Prefactor:')\n",
    "print(log_A-np.log(L), log_A_error, chi2)\n",
    "print('ratio:')\n",
    "print(np.exp(log_A_th)/np.exp(log_A))"
   ]
  },
  {
   "cell_type": "code",
   "execution_count": 34,
   "metadata": {},
   "outputs": [
    {
     "name": "stderr",
     "output_type": "stream",
     "text": [
      "No artists with labels found to put in legend.  Note that artists whose label start with an underscore are ignored when legend() is called with no argument.\n"
     ]
    },
    {
     "data": {
      "image/png": "[encoded data removed]",
      "text/plain": [
       "<Figure size 500x300 with 1 Axes>"
      ]
     },
     "metadata": {},
     "output_type": "display_data"
    }
   ],
   "source": [
    "\"\"\" Plot Prefactor \"\"\"\n",
    "\n",
    "Tinv = np.linspace(TempList[0]**(-1), TempList[-1]**(-1), 1000)\n",
    "fig, ax = plt.subplots(1, 1, figsize=(5,3))\n",
    "ax.errorbar(np.array(TempList)**(-1),log_Gamma_at_zero+Es_th*np.array(TempList)**(-1)-np.log(L),log_Gamma_at_zero_error, color='k', fmt='o', elinewidth=1, capsize=3)\n",
    "ax.plot(Tinv, log_Gamma_th2(Tinv, log_A) + Es_th*Tinv - np.log(L), color='k')\n",
    "plt.xlabel(r'$T^{-1}$',fontsize=16)\n",
    "ax.set_ylabel(r'$\\ln\\: \\Gamma+E_sT^{-1}$',fontsize=16)\n",
    "#plt.text(1,1,r'$\\ln \\:A = -0.815\\pm 0.032$',fontsize=14)\n",
    "#plt.savefig('prefactor.pdf')\n",
    "beautify(ax, times=-100)\n",
    "plt.tight_layout()\n",
    "plt.show()"
   ]
  },
  {
   "cell_type": "code",
   "execution_count": 35,
   "metadata": {},
   "outputs": [
    {
     "name": "stderr",
     "output_type": "stream",
     "text": [
      "/cm/shared/apps/python/python37/lib/python3.7/site-packages/ipykernel_launcher.py:14: RuntimeWarning: divide by zero encountered in log\n",
      "  \n",
      "/cm/shared/apps/python/python37/lib/python3.7/site-packages/ipykernel_launcher.py:14: RuntimeWarning: invalid value encountered in double_scalars\n",
      "  \n",
      "/cm/shared/apps/python/python37/lib/python3.7/site-packages/ipykernel_launcher.py:15: RuntimeWarning: divide by zero encountered in log\n",
      "  from ipykernel import kernelapp as app\n",
      "/cm/shared/apps/python/python37/lib/python3.7/site-packages/ipykernel_launcher.py:17: RuntimeWarning: divide by zero encountered in log\n",
      "  app.launch_new_instance()\n",
      "No artists with labels found to put in legend.  Note that artists whose label start with an underscore are ignored when legend() is called with no argument.\n"
     ]
    },
    {
     "data": {
      "image/png": "[encoded data removed]",
      "text/plain": [
       "<Figure size 500x300 with 1 Axes>"
      ]
     },
     "metadata": {},
     "output_type": "display_data"
    }
   ],
   "source": [
    "\"\"\" Plot survival probability: example \"\"\"\n",
    "\n",
    "t = np.linspace(0, 5000, 1000)\n",
    "fig, ax = plt.subplots(1, 1, figsize=(5,3))\n",
    "plt.xlim((0,7500))\n",
    "ax.set_xticks([1e3,2e3,3e3,4e3,5e3,6e3,7e3])\n",
    "ax.set_xticklabels([None,r'$2\\cdot 10^3$',None,r'$4\\cdot 10^3$',None,r'$6\\cdot 10^3$',None])\n",
    "for tick in [2e3,4e3,6e3]:\n",
    "    ax.axvline(x=tick, linestyle='dashed', linewidth=0.5, color='grey')\n",
    "\n",
    "for i in [0]:\n",
    "    imin = np.max(np.where(t_l[i]<6000))\n",
    "    imax = np.max(np.where(t_l[i]<7500))\n",
    "    a = (np.log(Psurv[i,imax])-np.log(Psurv[i,imin]))/1500\n",
    "    b = np.log(Psurv[i,imax]) - a*7500\n",
    "    x = np.linspace(0,7500,10000)\n",
    "    ax.plot(t_l[i], np.log(Psurv[i,:]),'black')\n",
    "    ax.plot(x, a*x+b, 'grey',linewidth=1)\n",
    "\n",
    "plt.xlabel(r'$t$',fontsize=14)\n",
    "ax.set_ylabel(r'$\\ln\\: P_{surv}$',fontsize=14)\n",
    "beautify(ax, times=-100)\n",
    "plt.tight_layout()\n",
    "#plt.savefig('P_surv(t)_ex.pdf')\n",
    "plt.show()"
   ]
  },
  {
   "cell_type": "code",
   "execution_count": 36,
   "metadata": {},
   "outputs": [
    {
     "ename": "TypeError",
     "evalue": "'NoneType' object is not subscriptable",
     "output_type": "error",
     "traceback": [
      "\u001b[0;31m---------------------------------------------------------------------------\u001b[0m",
      "\u001b[0;31mTypeError\u001b[0m                                 Traceback (most recent call last)",
      "\u001b[0;32m/tmp/ipykernel_808668/4069379143.py\u001b[0m in \u001b[0;36m<module>\u001b[0;34m\u001b[0m\n\u001b[1;32m      6\u001b[0m \u001b[0mj\u001b[0m \u001b[0;34m=\u001b[0m \u001b[0;36m0\u001b[0m\u001b[0;34m\u001b[0m\u001b[0;34m\u001b[0m\u001b[0m\n\u001b[1;32m      7\u001b[0m \u001b[0;32mfor\u001b[0m \u001b[0mi\u001b[0m \u001b[0;32min\u001b[0m \u001b[0;34m[\u001b[0m\u001b[0;36m0\u001b[0m\u001b[0;34m]\u001b[0m\u001b[0;34m:\u001b[0m\u001b[0;34m\u001b[0m\u001b[0;34m\u001b[0m\u001b[0m\n\u001b[0;32m----> 8\u001b[0;31m     \u001b[0max\u001b[0m\u001b[0;34m.\u001b[0m\u001b[0merrorbar\u001b[0m\u001b[0;34m(\u001b[0m\u001b[0mtime_points\u001b[0m\u001b[0;34m[\u001b[0m\u001b[0mi\u001b[0m\u001b[0;34m]\u001b[0m\u001b[0;34m[\u001b[0m\u001b[0;36m1\u001b[0m\u001b[0;34m:\u001b[0m\u001b[0;34m-\u001b[0m\u001b[0;36m1\u001b[0m\u001b[0;34m]\u001b[0m\u001b[0;34m,\u001b[0m \u001b[0mnp\u001b[0m\u001b[0;34m.\u001b[0m\u001b[0mlog\u001b[0m\u001b[0;34m(\u001b[0m\u001b[0mGamma_t_list\u001b[0m\u001b[0;34m[\u001b[0m\u001b[0mi\u001b[0m\u001b[0;34m]\u001b[0m\u001b[0;34m[\u001b[0m\u001b[0;36m1\u001b[0m\u001b[0;34m:\u001b[0m\u001b[0;34m-\u001b[0m\u001b[0;36m1\u001b[0m\u001b[0;34m]\u001b[0m\u001b[0;34m)\u001b[0m\u001b[0;34m,\u001b[0m \u001b[0mGamma_t_errors_list\u001b[0m\u001b[0;34m[\u001b[0m\u001b[0mi\u001b[0m\u001b[0;34m]\u001b[0m\u001b[0;34m[\u001b[0m\u001b[0;36m1\u001b[0m\u001b[0;34m:\u001b[0m\u001b[0;34m-\u001b[0m\u001b[0;36m1\u001b[0m\u001b[0;34m]\u001b[0m\u001b[0;34m/\u001b[0m\u001b[0mGamma_t_list\u001b[0m\u001b[0;34m[\u001b[0m\u001b[0mi\u001b[0m\u001b[0;34m]\u001b[0m\u001b[0;34m[\u001b[0m\u001b[0;36m1\u001b[0m\u001b[0;34m:\u001b[0m\u001b[0;34m-\u001b[0m\u001b[0;36m1\u001b[0m\u001b[0;34m]\u001b[0m\u001b[0;34m,\u001b[0m \u001b[0mcolor\u001b[0m\u001b[0;34m=\u001b[0m\u001b[0mclr\u001b[0m\u001b[0;34m[\u001b[0m\u001b[0mj\u001b[0m\u001b[0;34m]\u001b[0m\u001b[0;34m,\u001b[0m \u001b[0mfmt\u001b[0m\u001b[0;34m=\u001b[0m\u001b[0mshp\u001b[0m\u001b[0;34m[\u001b[0m\u001b[0mj\u001b[0m\u001b[0;34m]\u001b[0m\u001b[0;34m,\u001b[0m \u001b[0melinewidth\u001b[0m\u001b[0;34m=\u001b[0m\u001b[0;36m1\u001b[0m\u001b[0;34m,\u001b[0m\u001b[0mcapsize\u001b[0m\u001b[0;34m=\u001b[0m\u001b[0;36m3\u001b[0m\u001b[0;34m)\u001b[0m\u001b[0;34m\u001b[0m\u001b[0;34m\u001b[0m\u001b[0m\n\u001b[0m\u001b[1;32m      9\u001b[0m     \u001b[0max\u001b[0m\u001b[0;34m.\u001b[0m\u001b[0merrorbar\u001b[0m\u001b[0;34m(\u001b[0m\u001b[0;34m[\u001b[0m\u001b[0;36m7500\u001b[0m\u001b[0;34m]\u001b[0m\u001b[0;34m,\u001b[0m\u001b[0;34m[\u001b[0m\u001b[0;34m-\u001b[0m\u001b[0;36m10.5\u001b[0m\u001b[0;34m+\u001b[0m\u001b[0mj\u001b[0m\u001b[0;34m*\u001b[0m\u001b[0;36m0.3\u001b[0m\u001b[0;34m]\u001b[0m\u001b[0;34m,\u001b[0m\u001b[0;34m[\u001b[0m\u001b[0;36m0\u001b[0m\u001b[0;34m]\u001b[0m\u001b[0;34m,\u001b[0m\u001b[0mcolor\u001b[0m\u001b[0;34m=\u001b[0m\u001b[0mclr\u001b[0m\u001b[0;34m[\u001b[0m\u001b[0mj\u001b[0m\u001b[0;34m]\u001b[0m\u001b[0;34m,\u001b[0m \u001b[0mfmt\u001b[0m\u001b[0;34m=\u001b[0m\u001b[0mshp\u001b[0m\u001b[0;34m[\u001b[0m\u001b[0mj\u001b[0m\u001b[0;34m]\u001b[0m\u001b[0;34m,\u001b[0m \u001b[0melinewidth\u001b[0m\u001b[0;34m=\u001b[0m\u001b[0;36m1\u001b[0m\u001b[0;34m,\u001b[0m\u001b[0mcapsize\u001b[0m\u001b[0;34m=\u001b[0m\u001b[0;36m3\u001b[0m\u001b[0;34m)\u001b[0m\u001b[0;34m\u001b[0m\u001b[0;34m\u001b[0m\u001b[0m\n\u001b[1;32m     10\u001b[0m     \u001b[0mplt\u001b[0m\u001b[0;34m.\u001b[0m\u001b[0mtext\u001b[0m\u001b[0;34m(\u001b[0m\u001b[0;36m8000\u001b[0m\u001b[0;34m,\u001b[0m\u001b[0;34m-\u001b[0m\u001b[0;36m10.55\u001b[0m\u001b[0;34m+\u001b[0m\u001b[0mj\u001b[0m\u001b[0;34m*\u001b[0m\u001b[0;36m0.3\u001b[0m\u001b[0;34m,\u001b[0m\u001b[0;34mr'$T=$'\u001b[0m\u001b[0;34m+\u001b[0m\u001b[0;34mf'{TempList[i]}'\u001b[0m\u001b[0;34m,\u001b[0m\u001b[0mfontsize\u001b[0m\u001b[0;34m=\u001b[0m\u001b[0;36m13\u001b[0m\u001b[0;34m)\u001b[0m\u001b[0;34m\u001b[0m\u001b[0;34m\u001b[0m\u001b[0m\n",
      "\u001b[0;31mTypeError\u001b[0m: 'NoneType' object is not subscriptable"
     ]
    },
    {
     "data": {
      "image/png": "[encoded data removed]",
      "text/plain": [
       "<Figure size 500x300 with 1 Axes>"
      ]
     },
     "metadata": {},
     "output_type": "display_data"
    }
   ],
   "source": [
    "\"\"\" Plot the decay rate extrapolation lines \"\"\"\n",
    "\n",
    "fig, ax = plt.subplots(1, 1, figsize=(5,3))\n",
    "clr = ['black', 'blue', 'red']\n",
    "shp = ['o', 'v', 's']\n",
    "j = 0\n",
    "for i in [0]:\n",
    "    ax.errorbar(time_points[i][1:-1], np.log(Gamma_t_list[i][1:-1]), Gamma_t_errors_list[i][1:-1]/Gamma_t_list[i][1:-1], color=clr[j], fmt=shp[j], elinewidth=1,capsize=3)\n",
    "    ax.errorbar([7500],[-10.5+j*0.3],[0],color=clr[j], fmt=shp[j], elinewidth=1,capsize=3)\n",
    "    plt.text(8000,-10.55+j*0.3,r'$T=$'+f'{TempList[i]}',fontsize=13)\n",
    "    ax.plot(t_l[i],log_Gamma_fit(t_l[i],log_Gamma_at_zero[i],slope[i]),color=clr[j],linewidth=0.5)\n",
    "    j += 1\n",
    "plt.xlabel(r'$t$',fontsize=16)\n",
    "plt.xlim((0,11000))\n",
    "plt.ylim((-11.7,-9.4))\n",
    "ax.set_ylabel(r'$\\ln\\:\\Gamma(t)$',fontsize=16)\n",
    "#plt.savefig('Gamma(t).pdf')\n",
    "beautify(ax, times=-100)\n",
    "plt.tight_layout()\n",
    "plt.show()"
   ]
  },
  {
   "cell_type": "code",
   "execution_count": 35,
   "metadata": {
    "tags": []
   },
   "outputs": [
    {
     "name": "stderr",
     "output_type": "stream",
     "text": [
      "No artists with labels found to put in legend.  Note that artists whose label start with an underscore are ignored when legend() is called with no argument.\n"
     ]
    },
    {
     "data": {
      "image/png": "[encoded data removed]",
      "text/plain": [
       "<Figure size 500x300 with 1 Axes>"
      ]
     },
     "metadata": {},
     "output_type": "display_data"
    }
   ],
   "source": [
    "\"\"\" Plot the resulting fit \"\"\"\n",
    "\n",
    "Tinv = np.linspace(TempList[0]**(-1),TempList[-1]**(-1),1000)\n",
    "fig, ax = plt.subplots(1, 1, figsize=(5,3))\n",
    "ax.plot(Tinv, log_Gamma_th(Tinv,Es), 'black', linewidth=2)\n",
    "ax.plot(Tinv, log_Gamma_th2(Tinv,log_A_th)-log_Gamma_th2(TempList[rf]**(-1),log_A_th), 'red', linestyle='dashed', linewidth=3)\n",
    "plt.errorbar(np.array(TempList)**(-1), log_Gamma_at_zero-log_Gamma_at_zero[rf], np.sqrt(log_Gamma_at_zero_error**2+log_Gamma_at_zero_error[rf]**2)/2, color='black', fmt='o', elinewidth=1, capsize=3)\n",
    "plt.xlabel(r'$T^{-1}$',fontsize=16)\n",
    "ax.set_ylabel(r'$\\ln\\: (\\Gamma(T)/\\Gamma(T_*))$',fontsize=16)\n",
    "#plt.text(10.6,0.52,r'$E_s^{(exp)}=1.329\\pm 0.087$',fontsize=14)\n",
    "#plt.savefig('E_sph1.pdf')\n",
    "beautify(ax, times=-100)\n",
    "plt.tight_layout()\n",
    "plt.show()"
   ]
  },
  {
   "cell_type": "code",
   "execution_count": null,
   "metadata": {},
   "outputs": [],
   "source": []
  },
  {
   "cell_type": "code",
   "execution_count": null,
   "metadata": {},
   "outputs": [],
   "source": []
  },
  {
   "cell_type": "code",
   "execution_count": null,
   "metadata": {},
   "outputs": [],
   "source": []
  },
  {
   "cell_type": "code",
   "execution_count": null,
   "metadata": {},
   "outputs": [],
   "source": []
  },
  {
   "cell_type": "code",
   "execution_count": null,
   "metadata": {},
   "outputs": [],
   "source": []
  }
 ],
 "metadata": {
  "kernelspec": {
   "display_name": "Python 3.7 (module)",
   "language": "python",
   "name": "python37-module"
  },
  "language_info": {
   "codemirror_mode": {
    "name": "ipython",
    "version": 3
   },
   "file_extension": ".py",
   "mimetype": "text/x-python",
   "name": "python",
   "nbconvert_exporter": "python",
   "pygments_lexer": "ipython3",
   "version": "3.7.16"
  }
 },
 "nbformat": 4,
 "nbformat_minor": 4
}
